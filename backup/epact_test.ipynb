{
 "cells": [
  {
   "cell_type": "code",
   "execution_count": 1,
   "metadata": {
    "collapsed": true
   },
   "outputs": [],
   "source": [
    "# import cell\n",
    "import subprocess\n",
    "import os\n",
    "import fileinput\n",
    "import sys\n",
    "\n",
    "import pandas as pd\n",
    "import numpy as np\n",
    "from pysam import VariantFile as psVa"
   ]
  },
  {
   "cell_type": "code",
   "execution_count": 3,
   "metadata": {},
   "outputs": [
    {
     "name": "stdout",
     "output_type": "stream",
     "text": [
      "***** Sort, zip, tabix file:  Lithiasis_set_20082018-123-samples_filterposition.vcf\n"
     ]
    },
    {
     "data": {
      "text/plain": [
       "''"
      ]
     },
     "execution_count": 3,
     "metadata": {},
     "output_type": "execute_result"
    }
   ],
   "source": [
    "vcf_file = 'Lithiasis_set_20082018-123-samples_filterposition.vcf'\n",
    "print \"***** Sort, zip, tabix file: \", vcf_file\n",
    "out_sort = vcf_file[0:len(vcf_file)-4] + \"_sort.vcf\"\n",
    "bzip = out_sort + \".gz\"\n",
    "comm1 = \"vcf-sort \" + vcf_file + \" > \" + out_sort\n",
    "comm2 = \"bgzip -c \" + out_sort + \" > \" + bzip\n",
    "comm3 = \"tabix -p vcf \" + bzip\n",
    "subprocess.check_output(comm1, shell = True)\n",
    "subprocess.check_output(comm2, shell = True)\n",
    "subprocess.check_output(comm3, shell = True)"
   ]
  },
  {
   "cell_type": "code",
   "execution_count": null,
   "metadata": {
    "collapsed": true
   },
   "outputs": [],
   "source": []
  }
 ],
 "metadata": {
  "kernelspec": {
   "display_name": "Python 2",
   "language": "python",
   "name": "python2"
  },
  "language_info": {
   "codemirror_mode": {
    "name": "ipython",
    "version": 2
   },
   "file_extension": ".py",
   "mimetype": "text/x-python",
   "name": "python",
   "nbconvert_exporter": "python",
   "pygments_lexer": "ipython2",
   "version": "2.7.12"
  }
 },
 "nbformat": 4,
 "nbformat_minor": 2
}
