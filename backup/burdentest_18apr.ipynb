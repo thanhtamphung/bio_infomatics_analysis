{
 "cells": [
  {
   "cell_type": "markdown",
   "metadata": {},
   "source": [
    "# Burden test:\n",
    "    Date: 13 mar 2019\n",
    "    Last Edit: 14 Apr 2019\n",
    "    Install all dependencies\n",
    "    Ref: Rvtest https://genome.sph.umich.edu/wiki/Rvtests \n",
    "         Exomiser https://www.sanger.ac.uk/science/tools/exomiser\n",
    "    Run cells step by step\n",
    "    Runtime: 30 minutes with input vcf 120MB\n",
    "    "
   ]
  },
  {
   "cell_type": "markdown",
   "metadata": {},
   "source": [
    "## Update\n",
    "Not edit GT ./."
   ]
  },
  {
   "cell_type": "markdown",
   "metadata": {},
   "source": [
    "## Dependencies:\n",
    "\n",
    "    1/ python packages in import cell (pandas, numpy, pysam)\n",
    "    2/ bedtools\n",
    "    3/ vcftools (vcf-subset, vcf-sort, vcf-merge)\n",
    "    4/ htslib (bgzip, tabix)\n",
    "    5/ exomiser 8.0.0 https://github.com/exomiser/Exomiser/releases/tag/8.0.0\n",
    "    6/ rvtests https://github.com/zhanxw/rvtests"
   ]
  },
  {
   "cell_type": "markdown",
   "metadata": {},
   "source": [
    "# Burden test Framework"
   ]
  },
  {
   "cell_type": "markdown",
   "metadata": {},
   "source": [
    "## 1/ Review data\n",
    "## 2/ Filter position with bed file\n",
    "## 3/ Split sample from vcf\n",
    "## 4/ Filter read depth (min_base_count = 10) and maybe ref, alt\n",
    "## 5/ Annotation with exomiser\n",
    "## 6/ Filter function_class (protein affecting) and maybe freq\n",
    "## 7/ Merge results\n",
    "## 8/ Preprocessing and Burden test\n",
    "## 9/ Output report\n"
   ]
  },
  {
   "cell_type": "code",
   "execution_count": 1,
   "metadata": {
    "collapsed": true
   },
   "outputs": [],
   "source": [
    "# import cell\n",
    "import subprocess\n",
    "import os\n",
    "import fileinput\n",
    "import sys\n",
    "\n",
    "import pandas as pd\n",
    "import numpy as np\n",
    "from pysam import VariantFile as psVa"
   ]
  },
  {
   "cell_type": "markdown",
   "metadata": {},
   "source": [
    "## ============= Modify these parameters ===================="
   ]
  },
  {
   "cell_type": "code",
   "execution_count": 2,
   "metadata": {
    "collapsed": true
   },
   "outputs": [],
   "source": [
    "# folder containing all input: vcf, bedfile, correspondance_table, exome file\n",
    "input_path = \"/data/BurdenTest/Lithiasis_mar/\"\n",
    "\n",
    "# vcf and input file name. All input files must be in input folder\n",
    "vcf_name = \"Lithiasis_set_20082018-123-samples.vcf\"\n",
    "bedfile = \"BED_Letav-sorted.bed\"\n",
    "ctable = \"Correspondance_table.tsv\"\n",
    "exomefile = \"exome.yml\"\n",
    "genefile = input_path+\"refFlat.txt.gz\"\n",
    "\n",
    "# List of protein affection for filtering\n",
    "af_pro = [\"missense_variant\", \"splice_region_variant\", \"stop_gained\", \"frameshift_variant\", \"stop_lost\", \"inframe_deletion\", \"inframe_insertion\"] \n",
    "\n",
    "# Tool path: \n",
    "exom_path = \"/home/phung/Documents/work/exomiser/exomiser_cli_8/exomiser-cli-8.0.0.jar\"\n",
    "rvtest_pwd = \"/data/rvtests/executable/rvtest\"\n"
   ]
  },
  {
   "cell_type": "markdown",
   "metadata": {},
   "source": [
    "## ============= Run cells and do not modify ===================="
   ]
  },
  {
   "cell_type": "code",
   "execution_count": 3,
   "metadata": {},
   "outputs": [
    {
     "name": "stdout",
     "output_type": "stream",
     "text": [
      "***** All outputs are in the folder:  /data/BurdenTest/Lithiasis_mar/output\n"
     ]
    }
   ],
   "source": [
    "output = input_path+\"output\"\n",
    "out_data = output + \"/data\"\n",
    "out_exome = output + \"/exome\"\n",
    "out_rvtest = output + \"/rvtest\"\n",
    "out_report = output +\"/report\"\n",
    "os.system(\"mkdir \"+output)\n",
    "os.system(\"mkdir \"+out_data)\n",
    "os.system(\"mkdir \"+out_exome)\n",
    "os.system(\"mkdir \"+out_rvtest)\n",
    "os.system(\"mkdir \"+out_report)\n",
    "print \"***** All outputs are in the folder: \", output"
   ]
  },
  {
   "cell_type": "code",
   "execution_count": 4,
   "metadata": {
    "collapsed": true
   },
   "outputs": [],
   "source": [
    "input_vcf = input_path + vcf_name\n",
    "input_bed = input_path + bedfile\n",
    "input_table = input_path + ctable\n",
    "input_exome = input_path + exomefile"
   ]
  },
  {
   "cell_type": "code",
   "execution_count": 5,
   "metadata": {
    "collapsed": true
   },
   "outputs": [],
   "source": [
    "name = vcf_name[0:len(vcf_name)-4]"
   ]
  },
  {
   "cell_type": "markdown",
   "metadata": {},
   "source": [
    "# 1/ Review input data"
   ]
  },
  {
   "cell_type": "code",
   "execution_count": 6,
   "metadata": {},
   "outputs": [
    {
     "name": "stdout",
     "output_type": "stream",
     "text": [
      "Number of variants (base pairs): \n",
      "13280\n"
     ]
    }
   ],
   "source": [
    "a = subprocess.check_output(\"grep -v '^#' \"+input_vcf+\" | cut -f 1 | sort\", shell = True)\n",
    "print \"Number of variants (base pairs): \\n\", a.count('\\n')"
   ]
  },
  {
   "cell_type": "code",
   "execution_count": 7,
   "metadata": {
    "scrolled": true
   },
   "outputs": [
    {
     "name": "stdout",
     "output_type": "stream",
     "text": [
      "Number of chrome: \n",
      "18\n",
      "Number of variants in each chrome: \n",
      "    878 1\n",
      "    584 10\n",
      "    694 11\n",
      "    836 12\n",
      "    766 13\n",
      "   1057 16\n",
      "    424 19\n",
      "    363 2\n",
      "    267 20\n",
      "    324 21\n",
      "    778 3\n",
      "    598 4\n",
      "    870 5\n",
      "    796 6\n",
      "    844 7\n",
      "    694 8\n",
      "   1846 9\n",
      "    661 X\n",
      "\n"
     ]
    }
   ],
   "source": [
    "a = subprocess.check_output(\"grep -v '^#' \"+input_vcf+\" | cut -f 1 | sort | uniq -c\", shell = True)\n",
    "print \"Number of chrome: \\n\", a.count('\\n')\n",
    "print \"Number of variants in each chrome: \\n\", a"
   ]
  },
  {
   "cell_type": "code",
   "execution_count": 8,
   "metadata": {
    "scrolled": true
   },
   "outputs": [
    {
     "name": "stdout",
     "output_type": "stream",
     "text": [
      "Number of samples: 123\n",
      "Name of samples:\n",
      "['c36cb72c-36c7-4dfc-b627-e68d51659e00', '1745b724-f5cd-4d7c-b966-05867e5d8915', '6d7d6e6d-3acf-46ab-87fc-35fab69dbb61', 'c17be704-6dec-460f-8604-6ab18a884a13', '7a1f3b10-cbbe-4add-88e4-1153968b31a9', '72741619-3a88-4583-b630-fc8acb056865', 'effdc78a-4118-4434-9731-f6c4786b8e1e', 'fe4f46ba-4582-4c12-9f55-597aad067a0d', '06c3e551-31d9-4118-ba7a-a94f5b1d95e6', '064d6e92-11d9-44ea-8b6a-98708ebc80b1', 'c468f784-c044-4256-89ee-e19a117434a7', '2bc926dd-710c-4844-af85-3428bbf46fea', '895840c1-6479-4d2a-bf91-7b3b781da157', '95fc3f50-daa0-4268-ae0e-3e21851afb72', '48006d66-7118-4cdf-a58f-aed98c7d10c0', '0dfb23a0-2a65-4e50-bad5-11f036ae8ef5', '981436f2-8ccb-4f4e-b961-bb14d1197d80', 'f97978ac-e9de-4e13-973d-66063061bc9a', 'f98e84b6-bff5-4a1f-80e7-b8e34c597f7a', 'c6520554-d64f-419e-8d23-1e8f286ae648', '91b80aa1-3d66-49e8-92a6-38ef4931f498', '25e071f1-9503-4b6f-98b1-d96579d36ccf', '9666e41a-9cd8-4013-8fe4-8d1c5ddeb861', '129848a8-0a7d-4daf-ad4c-bb7b719d0e67', 'dd090c61-37fa-47e8-85ef-3deb7fd44a84', 'fca5b4d4-bb13-4607-8dd6-532dc7bb9822', '3fa720b9-e66b-4bf6-9894-d589c319e4ac', 'cf581ffe-31b0-4b65-9d58-334ea345b3bb', 'a59be84b-2a14-498c-92df-3239efa022b8', '30e103fd-9488-4141-9758-57f3fd714b0f', '1fdd79f3-17d9-4a8b-9b29-9aae28a7446d', 'e540b4d1-e8ae-467a-930f-cd9a1f95549e', 'ddf0c6d1-7c1a-488a-b2c3-f04c308e1e21', '1f6e253e-4a32-4145-9df4-b98ded65d82b', '255121b7-e79d-438e-b96a-1445ed3fb826', '53f34b70-a595-4851-b097-b09a3b9bfb3f', 'd120bfd2-c0ee-4ec7-a0fe-4f92b55f7437', '119377a3-a19b-4ea2-8b4e-2b3438e250bc', '90944a01-2435-4e95-bcdc-cb4ddb0f2f1a', '6266308b-e6bf-4936-b6e3-7f742a426ce9', 'a6127092-b6ce-4603-978e-f710e77eba30', 'b1acb008-8d42-47f4-b7f2-c135b00bef81', 'abe92a64-a9b5-4473-972a-296983ce6c0e', '42c89927-cd14-4b91-9086-58642143444a', 'd39ca1c8-baea-42ea-a033-b1347886d067', '158d75f0-c58d-4a0f-9d4f-e881fb8f2c64', '0dd13e0c-2180-4e7e-ad9e-be1871a54ab9', 'beb1a533-36ca-4440-9ebb-6e8c3c7ea5a0', '2be2e7c7-d807-4918-85a6-8b40f06dad52', 'fe221954-b0d4-426d-8bfb-e14c25e4131d', 'aff5bc38-72ba-45e6-a372-73481745fbdc', '89690459-cfd6-4070-b62e-26dea903f9a9', '52bfa4a3-e757-4720-becb-1669f93cdb37', 'bcbeb870-7f1c-4920-a150-9b2191456d3d', 'fa4cc852-77f8-414f-b5d6-a9d93f7bde27', '38b36697-30b7-48c4-9f12-3f584af3627b', '33d41660-b7f6-455b-a8fa-b71e138c5284', '0c08197c-360c-4e92-8aa3-05eb850fa0db', '6ed256d8-f344-4e8d-b6f3-8809fbc68b08', '2748d921-14fe-40dc-961e-b78f42a7b7cf', 'b2a10fa6-8be9-4143-9638-8c338c02a73d', '3a61855c-8063-4e06-a529-0ae987115821', '128151fc-b736-4400-9e84-121877bee7e2', '90a3d33e-7b8e-4e0e-934f-1a2d7c6909ea', '8d1bac01-a0c0-4a54-b98b-2e211596df69', '1742b027-b385-4ad1-b10b-f58ad688b0ad', '86e6617c-c6ab-4bfd-adad-cb1b1670fcc4', 'db3c3ef0-d300-4119-8a91-6a6885a34805', 'e67ebefe-5987-4f5b-aa20-1e9655412a8f', '657b8d20-348d-47c3-9b98-6bb0cc6978c8', 'cb5f62df-41f9-4746-bc32-386e8485a346', '81c19eab-c79c-46a1-84a0-8b11ba247a1e', '364ef892-0118-4c03-a072-2041d4be4037', 'f8febc29-e42d-4f6c-9fc3-b1ed77326921', 'd3f33f15-57d9-44c2-a738-f6e8ec853b7a', 'e2509c87-a435-4d80-976b-af5163283915', '27e48e34-d260-4a1b-a46f-a54d930e0eb6', '39c419c2-581d-404f-9f83-fa1bd8c2d424', '57439232-b833-4103-b29b-c9e76f6cce38', 'dac84b45-9c34-47d0-ad12-a21d1ec49ba4', '84a3d0cd-2418-4efa-98b9-17df97d39128', '45725c22-88c2-4c6b-982e-6908f576fcc5', '8dca9d54-79fc-4ebf-84ce-abacf8a7d222', 'cfa73cf1-ece8-43d2-bcb3-c246c4125a2e', '23117b5d-6580-4d23-9b4d-d33f05d51304', '1f74aa26-c6e1-4642-b453-836a0a32c784', '9f7ebf65-d755-496f-b288-afebd733fd8b', '567022d4-81f7-4c5a-945f-423dd5d90d68', '767cd963-60a3-4b36-9ce2-5d432df5d7a3', '1c5c14a4-2eed-498c-8769-bce3b855e574', 'c4fe6197-eafb-4145-806c-de12e325faab', 'd0377fdc-0e62-4d31-915e-bcd720a8bd13', '6f25faba-de04-4bd9-9477-ced13ff58a9e', 'a9419328-bcb0-4d2c-bbd5-6d5f6443fbfb', '48221898-2f2e-4748-aa73-1aeb70ac3f1c', '0018187d-f392-4a82-aa29-2315d90fa79f', '16a7e530-9033-44d5-befb-1af10197bfa4', '20242e92-3177-4536-ae2b-3b8feb37ad45', '5af70295-e803-4e7d-83eb-9e41900f294a', '1fa99ba4-6fb4-41fe-8b8b-d808ccb8ff9e', '2db2543c-8260-4635-913e-f71ecf38e64c', '6eae034b-81cd-4707-8619-2661c6b0d9bf', '98e15920-7bfa-46c0-814f-135ecaba41c0', '8ad3cc45-a9e3-4a9f-a1c7-8a7e087d7b9b', 'c637f3f6-51a1-48ea-ab3d-d4b4d0505000', 'a5762944-a1b5-4cf3-9b04-046951fd8ddc', '364d4299-8a5d-4e7f-8fc3-7396039f34a3', '700b0b2b-e53a-4e3a-b08f-b43ce27d36d5', 'a8d27700-c1f6-4cc8-a9c3-d42efe17cfc9', 'e6d4f4b0-cf4e-4236-a1f4-285311b2df47', '591d8cde-7ed5-43ce-858b-3b54a007cf2d', 'c18847c8-0f40-4ea0-83a2-f1b64796e759', '58431049-8a44-4a49-8efa-42b70dd15415', 'e73d2dc8-83cf-4147-bc81-3c316db1763d', '19458930-d09e-487b-94d0-4d92681c39e5', '48929fa1-38a5-4299-ae5c-1e649e8471d1', '9bc697eb-2784-4fa0-8d83-c873a279c8fb', '3cb201ee-17c9-4ef2-a98a-a3fb429cbf00', '20eb1a25-9acd-41c9-83e7-5a9565e2ee84', 'e87ecce3-d46b-4254-b65b-2286366fd4ef', '73db0960-83be-43b9-9810-c4ed28eae64c', '5e558dfa-75a6-4cbc-8890-e2e6d8db5391', '7f548358-3644-4350-9b20-bf67dbc6dc08']\n"
     ]
    }
   ],
   "source": [
    "vcf_reader = psVa(input_vcf)\n",
    "l_samples = list(vcf_reader.header.samples)\n",
    "print \"Number of samples:\", len(l_samples)\n",
    "print \"Name of samples:\\n\", l_samples"
   ]
  },
  {
   "cell_type": "markdown",
   "metadata": {},
   "source": [
    "# 2/ Filter with bed file"
   ]
  },
  {
   "cell_type": "code",
   "execution_count": 9,
   "metadata": {},
   "outputs": [
    {
     "data": {
      "text/html": [
       "<div>\n",
       "<style>\n",
       "    .dataframe thead tr:only-child th {\n",
       "        text-align: right;\n",
       "    }\n",
       "\n",
       "    .dataframe thead th {\n",
       "        text-align: left;\n",
       "    }\n",
       "\n",
       "    .dataframe tbody tr th {\n",
       "        vertical-align: top;\n",
       "    }\n",
       "</style>\n",
       "<table border=\"1\" class=\"dataframe\">\n",
       "  <thead>\n",
       "    <tr style=\"text-align: right;\">\n",
       "      <th></th>\n",
       "      <th>1</th>\n",
       "      <th>21835858</th>\n",
       "      <th>21904905</th>\n",
       "      <th>1.1</th>\n",
       "    </tr>\n",
       "  </thead>\n",
       "  <tbody>\n",
       "    <tr>\n",
       "      <th>0</th>\n",
       "      <td>1</td>\n",
       "      <td>165370159</td>\n",
       "      <td>165414433</td>\n",
       "      <td>-1</td>\n",
       "    </tr>\n",
       "    <tr>\n",
       "      <th>1</th>\n",
       "      <td>1</td>\n",
       "      <td>43198764</td>\n",
       "      <td>43205925</td>\n",
       "      <td>-1</td>\n",
       "    </tr>\n",
       "    <tr>\n",
       "      <th>2</th>\n",
       "      <td>1</td>\n",
       "      <td>156211753</td>\n",
       "      <td>156213112</td>\n",
       "      <td>1</td>\n",
       "    </tr>\n",
       "    <tr>\n",
       "      <th>3</th>\n",
       "      <td>10</td>\n",
       "      <td>97471536</td>\n",
       "      <td>97637023</td>\n",
       "      <td>1</td>\n",
       "    </tr>\n",
       "    <tr>\n",
       "      <th>4</th>\n",
       "      <td>10</td>\n",
       "      <td>75668935</td>\n",
       "      <td>75677255</td>\n",
       "      <td>1</td>\n",
       "    </tr>\n",
       "  </tbody>\n",
       "</table>\n",
       "</div>"
      ],
      "text/plain": [
       "    1   21835858   21904905  1.1\n",
       "0   1  165370159  165414433   -1\n",
       "1   1   43198764   43205925   -1\n",
       "2   1  156211753  156213112    1\n",
       "3  10   97471536   97637023    1\n",
       "4  10   75668935   75677255    1"
      ]
     },
     "execution_count": 9,
     "metadata": {},
     "output_type": "execute_result"
    }
   ],
   "source": [
    "# compare chrome names in vcf and bed file. Make sure the same format (or replace(\"X\", \"GL000192.1\", 1))\n",
    "df_bed = pd.read_csv(input_bed, sep = \"\\t\")\n",
    "df_bed.head()"
   ]
  },
  {
   "cell_type": "code",
   "execution_count": 10,
   "metadata": {},
   "outputs": [
    {
     "name": "stdout",
     "output_type": "stream",
     "text": [
      "\n",
      "***** Filter position with bedtools. Output is  /data/BurdenTest/Lithiasis_mar/output/data/Lithiasis_set_20082018-123-samples_filterposition.vcf\n"
     ]
    }
   ],
   "source": [
    "vcf_bedfil = out_data + '/' + name + '_filterposition.vcf'\n",
    "cmn = \"bedtools intersect -a \" + input_vcf + \" -b \" + input_bed + \" -header > \" + vcf_bedfil\n",
    "print subprocess.check_output(cmn, shell = True)\n",
    "print \"***** Filter position with bedtools. Output is \", vcf_bedfil"
   ]
  },
  {
   "cell_type": "code",
   "execution_count": 11,
   "metadata": {},
   "outputs": [
    {
     "name": "stdout",
     "output_type": "stream",
     "text": [
      "Number of variants after filtering positions:  13211\n"
     ]
    }
   ],
   "source": [
    "# check number of variants after filter position \n",
    "a = subprocess.check_output(\"grep -v '^#' \"+ vcf_bedfil +\" | cut -f 1 | sort\", shell = True)\n",
    "print \"Number of variants after filtering positions: \", a.count('\\n')"
   ]
  },
  {
   "cell_type": "code",
   "execution_count": 12,
   "metadata": {
    "scrolled": true
   },
   "outputs": [
    {
     "name": "stdout",
     "output_type": "stream",
     "text": [
      "Number of chrome: \n",
      "18\n",
      "Number of variants(Snps) in each chrome: \n",
      "    871 1\n",
      "    584 10\n",
      "    694 11\n",
      "    836 12\n",
      "    766 13\n",
      "   1057 16\n",
      "    424 19\n",
      "    363 2\n",
      "    267 20\n",
      "    324 21\n",
      "    775 3\n",
      "    596 4\n",
      "    861 5\n",
      "    748 6\n",
      "    844 7\n",
      "    694 8\n",
      "   1846 9\n",
      "    661 X\n",
      "\n"
     ]
    }
   ],
   "source": [
    "a = subprocess.check_output(\"grep -v '^#' \"+ vcf_bedfil +\" | cut -f 1 | sort | uniq -c\", shell = True)\n",
    "print \"Number of chrome: \\n\", a.count('\\n')\n",
    "print \"Number of variants(Snps) in each chrome: \\n\", a"
   ]
  },
  {
   "cell_type": "code",
   "execution_count": 13,
   "metadata": {
    "collapsed": true
   },
   "outputs": [],
   "source": [
    "## delete ##contig lines created by position filter. If not, it's false when running exomiser\n",
    "\n",
    "ffinput = fileinput.input(vcf_bedfil, inplace=1)\n",
    "\n",
    "for i, line in enumerate(ffinput):\n",
    "    if line[0:8] == \"##contig\":\n",
    "        newline = \"\" \n",
    "    else: newline = line\n",
    "\n",
    "    sys.stdout.write(newline)\n",
    "\n",
    "ffinput.close()"
   ]
  },
  {
   "cell_type": "markdown",
   "metadata": {},
   "source": [
    "# 3/ Split sample, Extract sample from multi-sample vcf\n",
    "    To run exomiser, we have to split vcf file to be single-sample vcf"
   ]
  },
  {
   "cell_type": "code",
   "execution_count": 14,
   "metadata": {
    "scrolled": true
   },
   "outputs": [
    {
     "name": "stdout",
     "output_type": "stream",
     "text": [
      "***** Sort, zip, tabix file:  /data/BurdenTest/Lithiasis_mar/output/data/Lithiasis_set_20082018-123-samples_filterposition.vcf\n",
      "CPU times: user 7.35 ms, sys: 6.45 ms, total: 13.8 ms\n",
      "Wall time: 3.52 s\n"
     ]
    }
   ],
   "source": [
    "%%time\n",
    "# use vcftools to extract sample so it must have bgzip and tabix files\n",
    "\n",
    "\n",
    "print \"***** Sort, zip, tabix file: \", vcf_bedfil\n",
    "out_sort = vcf_bedfil[0:len(vcf_bedfil)-4] + \"_sort.vcf\"\n",
    "bzip = out_sort + \".gz\"\n",
    "comm1 = \"vcf-sort \" + vcf_bedfil + \" > \" + out_sort\n",
    "comm2 = \"bgzip -c \" + out_sort + \" > \" + bzip\n",
    "comm3 = \"tabix -p vcf \" + bzip\n",
    "subprocess.check_output(comm1, shell = True)\n",
    "subprocess.check_output(comm2, shell = True)\n",
    "subprocess.check_output(comm3, shell = True)\n",
    "\n"
   ]
  },
  {
   "cell_type": "code",
   "execution_count": 15,
   "metadata": {},
   "outputs": [
    {
     "name": "stdout",
     "output_type": "stream",
     "text": [
      "***** Split samples ...\n",
      "[====================] 123/123\n",
      "***** Done.\n",
      "CPU times: user 220 ms, sys: 501 ms, total: 721 ms\n",
      "Wall time: 5min 19s\n"
     ]
    }
   ],
   "source": [
    "%%time\n",
    "\n",
    "print \"***** Split samples ...\"\n",
    "for k in range(len(l_samples)):\n",
    "    # monitor the process:\n",
    "    sys.stdout.write('\\r') \n",
    "    sys.stdout.write(\"[%-20s] %d/%d\" % ('='*(1+k*20/len(l_samples)), k+1,len(l_samples)))\n",
    "    sys.stdout.flush()\n",
    "    \n",
    "    comm = \"vcf-subset -c \" + l_samples[k] + \" \" + bzip + \" > \" + vcf_bedfil[0:len(vcf_bedfil)-4] + \"_s\" + str(k+1) + \".vcf\"\n",
    "    subprocess.check_output(comm, shell = True)\n",
    "print \"\\n***** Done.\""
   ]
  },
  {
   "cell_type": "markdown",
   "metadata": {},
   "source": [
    "# 4/ Filter read depth (min_depth = 10, max_depth = 500)"
   ]
  },
  {
   "cell_type": "code",
   "execution_count": 16,
   "metadata": {
    "collapsed": true
   },
   "outputs": [],
   "source": [
    "def filter_DP(file_vcf):\n",
    "    vcf_out = file_vcf[0:len(file_vcf)-4] + \"_DP.vcf\"\n",
    "    f_in = open(file_vcf)\n",
    "    F_OUT = open(vcf_out, \"wb\")\n",
    "\n",
    "    read = f_in.readline()\n",
    "\n",
    "    while read:\n",
    "        newline = read\n",
    "        if \"#\" not in read[0]:\n",
    "            row = newline.split(\"\\t\")\n",
    "            l_col = len(row)\n",
    "\n",
    "            if l_col>7:\n",
    "\n",
    "                tmp_samp = row[l_col-1].split(\":\")\n",
    "                if len(tmp_samp[2]) == 1: # less than 10\n",
    "                    newline = \"\"\n",
    "                else:\n",
    "                    if int(tmp_samp[2]) > 500:\n",
    "                        newline = \"\"\n",
    "\n",
    "\n",
    "        F_OUT.write(newline)       \n",
    "        read = f_in.readline()\n",
    "\n",
    "\n",
    "    f_in.close()\n",
    "    F_OUT.close()"
   ]
  },
  {
   "cell_type": "code",
   "execution_count": 17,
   "metadata": {},
   "outputs": [
    {
     "name": "stdout",
     "output_type": "stream",
     "text": [
      "***** Running filter read depth ...\n",
      "***** Done.\n",
      "CPU times: user 12.3 s, sys: 1.64 s, total: 14 s\n",
      "Wall time: 14.7 s\n"
     ]
    }
   ],
   "source": [
    "%%time\n",
    "print \"***** Running filter read depth ...\"\n",
    "for k in range(len(l_samples)):\n",
    "    file_vcf = vcf_bedfil[0:len(vcf_bedfil)-4] + \"_s\" + str(k+1) + \".vcf\"\n",
    "    filter_DP(file_vcf)\n",
    "print \"***** Done.\""
   ]
  },
  {
   "cell_type": "code",
   "execution_count": 18,
   "metadata": {},
   "outputs": [
    {
     "name": "stdout",
     "output_type": "stream",
     "text": [
      "***** File name after filter read depth:  /data/BurdenTest/Lithiasis_mar/output/data/Lithiasis_set_20082018-123-samples_filterposition_s1_DP.vcf\n"
     ]
    }
   ],
   "source": [
    "print \"***** File name after filter read depth: \", vcf_bedfil[0:len(vcf_bedfil)-4] + \"_s\" + str(1) + \"_DP.vcf\""
   ]
  },
  {
   "cell_type": "markdown",
   "metadata": {},
   "source": [
    "# 5/ Annotation with Exomiser"
   ]
  },
  {
   "cell_type": "code",
   "execution_count": 19,
   "metadata": {},
   "outputs": [
    {
     "name": "stdout",
     "output_type": "stream",
     "text": [
      "***** Output for annotation in:  /data/BurdenTest/Lithiasis_mar/output/exome\n"
     ]
    },
    {
     "data": {
      "text/plain": [
       "0"
      ]
     },
     "execution_count": 19,
     "metadata": {},
     "output_type": "execute_result"
    }
   ],
   "source": [
    "print \"***** Output for annotation in: \", out_exome\n",
    "out_exome_conf = out_exome + \"/conf\"\n",
    "out_exome_result = out_exome + \"/result\"\n",
    "os.system(\"mkdir \"+out_exome_conf)\n",
    "os.system(\"mkdir \"+out_exome_result)\n"
   ]
  },
  {
   "cell_type": "code",
   "execution_count": 20,
   "metadata": {},
   "outputs": [
    {
     "name": "stdout",
     "output_type": "stream",
     "text": [
      "***** Generate conf files for running EXOMISER in  /data/BurdenTest/Lithiasis_mar/output/exome/conf\n",
      "***** Output this part will be in  /data/BurdenTest/Lithiasis_mar/output/exome/result\n"
     ]
    }
   ],
   "source": [
    "\n",
    "print \"***** Generate conf files for running EXOMISER in \", out_exome_conf\n",
    "for k in range(len(l_samples)):\n",
    "    #print \"sample:\", k+1\n",
    "    file_yml = out_exome_conf + \"/exome_s\" + str(k+1) + \".yml\"\n",
    "    os.system(\"cp \" + input_exome + \" \" + file_yml)\n",
    "\n",
    "    finput = fileinput.input(file_yml, inplace=1)\n",
    "    file_vcf = vcf_bedfil[0:len(vcf_bedfil)-4] + \"_s\" + str(k+1) + \"_DP.vcf\"\n",
    "    file_result = out_exome_result + '/'+name + \"_exome_s\" + str(k+1)\n",
    "    \n",
    "    for i, line in enumerate(finput):\n",
    "        newline = line.replace(\"dataname\", file_vcf)\n",
    "        newline = newline.replace(\"resultname\", file_result)\n",
    "        sys.stdout.write(newline)\n",
    "        \n",
    "    finput.close()\n",
    "print \"***** Output this part will be in \", out_exome_result"
   ]
  },
  {
   "cell_type": "code",
   "execution_count": 21,
   "metadata": {
    "scrolled": true
   },
   "outputs": [
    {
     "name": "stdout",
     "output_type": "stream",
     "text": [
      "***** Annotation by EXOMISER *****\n",
      "[====================] 123/123\n",
      "\n",
      "CPU times: user 321 ms, sys: 462 ms, total: 783 ms\n",
      "Wall time: 18min 55s\n"
     ]
    }
   ],
   "source": [
    "%%time\n",
    "print \"***** Annotation by EXOMISER *****\"\n",
    "for k in range(len(l_samples)):\n",
    "    # monitor the process:\n",
    "    sys.stdout.write('\\r') \n",
    "    sys.stdout.write(\"[%-20s] %d/%d\" % ('='*(1+k*20/len(l_samples)), k+1,len(l_samples)))\n",
    "    sys.stdout.flush()\n",
    "    \n",
    "    file_yml = out_exome_conf + \"/exome_s\" + str(k+1) + \".yml\"\n",
    "    comm = \"time java -Xms2g -Xmx10g -jar \" + exom_path + \" --analysis \" + file_yml\n",
    "    \n",
    "    subprocess.check_output(comm, shell = True)\n",
    "print \"\\n\"    "
   ]
  },
  {
   "cell_type": "code",
   "execution_count": 22,
   "metadata": {
    "scrolled": true
   },
   "outputs": [
    {
     "data": {
      "text/plain": [
       "'\\n%%time\\nfrom joblib import Parallel, delayed\\nprint \"***** Annotation by EXOMISER *****\"\\ndef exome_run(k):\\n    \\n    file_yml = out_exome_conf + \"/exome_s\" + str(k+1) + \".yml\"\\n    comm = \"time java -Xms2g -Xmx10g -jar \" + exom_path + \" --analysis \" + file_yml\\n\\n    subprocess.check_output(comm, shell = True)\\n    print \"Finish annotation sample\", k+1\\n    \\nelement_information = Parallel(n_jobs=-1)(delayed(exome_run)(k) for k in range(len(l_samples)))\\n'"
      ]
     },
     "execution_count": 22,
     "metadata": {},
     "output_type": "execute_result"
    }
   ],
   "source": [
    "# Parallel execute to speed up process of annotation EXOMISER\n",
    "# EXOMISER also has paralle processing inside but if your computer has many threads, \n",
    "# you can try following code to speed up your process.\n",
    "\"\"\"\n",
    "%%time\n",
    "from joblib import Parallel, delayed\n",
    "print \"***** Annotation by EXOMISER *****\"\n",
    "def exome_run(k):\n",
    "    \n",
    "    file_yml = out_exome_conf + \"/exome_s\" + str(k+1) + \".yml\"\n",
    "    comm = \"time java -Xms2g -Xmx10g -jar \" + exom_path + \" --analysis \" + file_yml\n",
    "\n",
    "    subprocess.check_output(comm, shell = True)\n",
    "    print \"Finish annotation sample\", k+1\n",
    "    \n",
    "element_information = Parallel(n_jobs=-1)(delayed(exome_run)(k) for k in range(len(l_samples)))\n",
    "\"\"\""
   ]
  },
  {
   "cell_type": "markdown",
   "metadata": {},
   "source": [
    "# 6/ Filter function_class (protein affecting) and maybe freq"
   ]
  },
  {
   "cell_type": "code",
   "execution_count": 23,
   "metadata": {},
   "outputs": [
    {
     "name": "stdout",
     "output_type": "stream",
     "text": [
      "***** Filter genes with protein affecting:  ['missense_variant', 'splice_region_variant', 'stop_gained', 'frameshift_variant', 'stop_lost', 'inframe_deletion', 'inframe_insertion']\n"
     ]
    }
   ],
   "source": [
    "# Remind list of protein affecting \n",
    "#af_pro = [\"missense_variant\", \"splice_region_variant\", \"stop_gained\", \"frameshift_variant\", \"stop_lost\", \"inframe_deletion\", \"inframe_insertion\"] \n",
    "print \"***** Filter genes with protein affecting: \", af_pro\n",
    "def filter_fc(file_va, file_vcf):\n",
    "    df_va = pd.read_csv(file_va, sep = \"\\t\")\n",
    "    df_tmp = df_va[df_va.FUNCTIONAL_CLASS.isin(af_pro)]\n",
    "    pos = list(df_tmp.POS)\n",
    "\n",
    "    os.system(\"cp \" + file_vcf + \" \" + file_vcf[0:len(file_vcf)-4] + \"_fc.vcf\")\n",
    "    tmp = file_vcf[0:len(file_vcf)-4] + \"_fc.vcf\"\n",
    "    tmpinput = fileinput.input(tmp, inplace=1)\n",
    "    for i, line in enumerate(tmpinput):\n",
    "        a = line.split(\"\\t\")\n",
    "        if len(a)>3:\n",
    "            if a[1] == \"POS\": newline = line\n",
    "            else: \n",
    "                if int(a[1]) in pos: newline = line\n",
    "                else: newline = \"\"\n",
    "\n",
    "        else: \n",
    "            newline = line\n",
    "        sys.stdout.write(newline)\n",
    "\n",
    "\n",
    "            #sys.stderr.write(line +'\\n')\n",
    "    tmpinput.close()"
   ]
  },
  {
   "cell_type": "code",
   "execution_count": 24,
   "metadata": {
    "scrolled": true
   },
   "outputs": [
    {
     "name": "stdout",
     "output_type": "stream",
     "text": [
      "***** Output file name:  /data/BurdenTest/Lithiasis_mar/output/exome/result/Lithiasis_set_20082018-123-samples_exome_s1_fc.vcf\n",
      "CPU times: user 1.16 s, sys: 417 ms, total: 1.58 s\n",
      "Wall time: 2.34 s\n"
     ]
    }
   ],
   "source": [
    "%%time\n",
    "for k in range(len(l_samples)):\n",
    "    file_va = out_exome_result + '/'+name + \"_exome_s\" + str(k+1) + \".variants.tsv\"\n",
    "    file_vcf = out_exome_result + '/'+name + \"_exome_s\" + str(k+1) + \".vcf\"\n",
    "    filter_fc(file_va, file_vcf)\n",
    "\n",
    "print \"***** Output file name: \", out_exome_result + '/'+name + \"_exome_s\" + str(1) + \"_fc.vcf\""
   ]
  },
  {
   "cell_type": "markdown",
   "metadata": {},
   "source": [
    "# 7/ Merge results"
   ]
  },
  {
   "cell_type": "code",
   "execution_count": 22,
   "metadata": {
    "scrolled": true
   },
   "outputs": [
    {
     "name": "stdout",
     "output_type": "stream",
     "text": [
      "CPU times: user 42.7 ms, sys: 1.14 s, total: 1.19 s\n",
      "Wall time: 8.66 s\n"
     ]
    }
   ],
   "source": [
    "%%time\n",
    "# Merge vcf results\n",
    "vcf_merge = out_exome + '/' +name + \"_merge_exomiser_all.vcf\"\n",
    "# sort and bzip files\n",
    "for k in range(len(l_samples)):\n",
    "    result = out_exome_result + '/'+name + \"_exome_s\" + str(k+1) + \".vcf\"\n",
    "    out_sort = out_exome_result + '/'+name + \"_exome_sort_s\" + str(k+1)+\".vcf\"\n",
    "    bzip = out_exome_result + '/'+name + \"_exome_bz_s\" + str(k+1)+ \".vcf.gz\"\n",
    "    \n",
    "    comm1 = \"vcf-sort \" + result + \" > \" + out_sort\n",
    "    comm2 = \"bgzip -c \" + out_sort + \" > \" + bzip\n",
    "    comm3 =  \"tabix -p vcf \" + bzip\n",
    "    subprocess.check_output(comm1, shell = True)\n",
    "    subprocess.check_output(comm2, shell = True)\n",
    "    subprocess.check_output(comm3, shell = True)\n",
    "comm4 = \"vcf-merge\""
   ]
  },
  {
   "cell_type": "code",
   "execution_count": 23,
   "metadata": {},
   "outputs": [
    {
     "name": "stdout",
     "output_type": "stream",
     "text": [
      "\n",
      "***** Merge results of exomiser. Output is  /data/BurdenTest/Lithiasis_mar/output/exome/Lithiasis_set_20082018-123-samples_merge_exomiser_all.vcf\n",
      "CPU times: user 1.31 ms, sys: 4.46 ms, total: 5.77 ms\n",
      "Wall time: 21.5 s\n"
     ]
    }
   ],
   "source": [
    "%%time\n",
    "\n",
    "for k in range(len(l_samples)):\n",
    "    bzip = \" \" + out_exome_result + '/'+name + \"_exome_bz_s\" + str(k+1)+ \".vcf.gz\"\n",
    "    comm4 = comm4 + bzip\n",
    "comm4 = comm4 + \" > \" + vcf_merge\n",
    "print subprocess.check_output(comm4, shell = True)   \n",
    "\n",
    "print \"***** Merge results of exomiser. Output is \", vcf_merge"
   ]
  },
  {
   "cell_type": "code",
   "execution_count": 24,
   "metadata": {},
   "outputs": [
    {
     "name": "stdout",
     "output_type": "stream",
     "text": [
      "Number of variants after merging:  5770\n"
     ]
    }
   ],
   "source": [
    "# check number of variants after merging\n",
    "\n",
    "a = subprocess.check_output(\"grep -v '^#' \"+ vcf_merge +\" | cut -f 1 | sort\", shell = True)\n",
    "print \"Number of variants after merging: \", a.count('\\n')"
   ]
  },
  {
   "cell_type": "markdown",
   "metadata": {},
   "source": [
    "# 8/ Preprocessing and Burden test\n",
    "\n",
    "    Input to run rvtest-burden test:\n",
    "            - vcf file with genetype of all patients\n",
    "            - pheno file: phenotype of all patients\n",
    "            - genefile: mapping position with gene-names"
   ]
  },
  {
   "cell_type": "markdown",
   "metadata": {},
   "source": [
    "## 8.1/ Prepare input"
   ]
  },
  {
   "cell_type": "code",
   "execution_count": 25,
   "metadata": {
    "collapsed": true
   },
   "outputs": [],
   "source": [
    "def findchar(s, ch):\n",
    "    return [i for i, ltr in enumerate(s) if ltr == ch]"
   ]
  },
  {
   "cell_type": "code",
   "execution_count": 48,
   "metadata": {},
   "outputs": [
    {
     "name": "stdout",
     "output_type": "stream",
     "text": [
      "***** Edit values, keep Genetype 1/1, 0/1 or 0/0\n",
      "***** Output is  /data/BurdenTest/Lithiasis_mar/output/exome/Lithiasis_set_20082018-123-samples_merge_exomiser_all_1.vcf\n"
     ]
    }
   ],
   "source": [
    "# edit values, keep GT 1/1, 0/1 or 0/0\n",
    "mfile = vcf_merge\n",
    "print \"***** Edit values, keep Genetype 1/1, 0/1 or 0/0\"\n",
    "\n",
    "os.system(\"cp \" + mfile + \" \" + mfile[0:len(mfile)-4] + \"_1.vcf\")\n",
    "mfile = mfile[0:len(mfile)-4] + \"_1.vcf\"\n",
    "minput = fileinput.input(mfile, inplace=1)\n",
    "\n",
    "for i, line in enumerate(minput):\n",
    "    #sys.stderr.write(line +'\\n')\n",
    "    newline = line\n",
    "    at1 = findchar(newline,\"\\t\")\n",
    "    if len(at1)>5:\n",
    "        line1 = newline[at1[8]+1:len(newline)]\n",
    "        line1 = line1.replace(\"./\", \"0/\")\n",
    "        line1 = line1.replace(\"/.\", \"/1\")\n",
    "        #line1 = line1.replace(\".\", \"0/0\")\n",
    "        ac1 = findchar(line1,\":\")\n",
    "        while len(ac1)>1:\n",
    "            at2 = findchar(line1[ac1[0]:len(line1)],\"\\t\")\n",
    "            if len(at2)>0:\n",
    "                line1 = line1.replace(line1[ac1[0]:ac1[0]+at2[0]], \"\")\n",
    "            else:\n",
    "                line1 = line1.replace(line1[ac1[0]:len(line1)], \"\\n\")\n",
    "\n",
    "            ac1 = findchar(line1,\":\")\n",
    "\n",
    "        newline = newline[0:at1[8]+1] + line1\n",
    "    sys.stdout.write(newline)\n",
    "minput.close()\n",
    "print \"***** Output is \", mfile"
   ]
  },
  {
   "cell_type": "code",
   "execution_count": 49,
   "metadata": {},
   "outputs": [
    {
     "name": "stdout",
     "output_type": "stream",
     "text": [
      "***** Sort, zip, tabix file vcf to make input for burden test:  /data/BurdenTest/Lithiasis_mar/output/exome/Lithiasis_set_20082018-123-samples_merge_exomiser_all_sort_bz.vcf.gz\n"
     ]
    }
   ],
   "source": [
    "# bgzip and tabix files for burden test using rvtest\n",
    "result = mfile\n",
    "#mfile = vcf_merge\n",
    "#result = vcf_merge\n",
    "out_sort = mfile[0:len(mfile)-6] + \"_sort.vcf\"\n",
    "bzip = out_sort[0:len(out_sort)-4] + \"_bz.vcf.gz\"\n",
    "comm1 = \"vcf-sort \" + mfile + \" > \" + out_sort\n",
    "comm2 = \"bgzip -c \" + out_sort + \" > \" + bzip\n",
    "comm3 =  \"tabix -p vcf \" + bzip\n",
    "subprocess.check_output(comm1, shell = True)\n",
    "subprocess.check_output(comm2, shell = True)\n",
    "subprocess.check_output(comm3, shell = True)\n",
    "print \"***** Sort, zip, tabix file vcf to make input for burden test: \", bzip"
   ]
  },
  {
   "cell_type": "markdown",
   "metadata": {},
   "source": [
    "## 8.2/ Prepare phenotype values for burden test\n",
    "\n",
    "extract samples ID in df_tab, then compare with ID 1 in df_bio to get values"
   ]
  },
  {
   "cell_type": "markdown",
   "metadata": {},
   "source": [
    "### ===== View table and Check the correspondence table ====="
   ]
  },
  {
   "cell_type": "code",
   "execution_count": 28,
   "metadata": {
    "collapsed": true
   },
   "outputs": [],
   "source": [
    "df_tab = pd.read_csv(input_table, sep = \"\\t\")"
   ]
  },
  {
   "cell_type": "code",
   "execution_count": 29,
   "metadata": {},
   "outputs": [
    {
     "data": {
      "text/html": [
       "<div>\n",
       "<style>\n",
       "    .dataframe thead tr:only-child th {\n",
       "        text-align: right;\n",
       "    }\n",
       "\n",
       "    .dataframe thead th {\n",
       "        text-align: left;\n",
       "    }\n",
       "\n",
       "    .dataframe tbody tr th {\n",
       "        vertical-align: top;\n",
       "    }\n",
       "</style>\n",
       "<table border=\"1\" class=\"dataframe\">\n",
       "  <thead>\n",
       "    <tr style=\"text-align: right;\">\n",
       "      <th></th>\n",
       "      <th>#HASH-ID</th>\n",
       "      <th>SAMPLE-Number</th>\n",
       "      <th>SAMPLES-NAMES</th>\n",
       "    </tr>\n",
       "  </thead>\n",
       "  <tbody>\n",
       "    <tr>\n",
       "      <th>0</th>\n",
       "      <td>23117b5d-6580-4d23-9b4d-d33f05d51304</td>\n",
       "      <td>p1</td>\n",
       "      <td>LABDO-F-48-PLq0-HOX0-HCaLciU0-HCt3oL0-RCt3oLOH1</td>\n",
       "    </tr>\n",
       "    <tr>\n",
       "      <th>1</th>\n",
       "      <td>33d41660-b7f6-455b-a8fa-b71e138c5284</td>\n",
       "      <td>p2</td>\n",
       "      <td>BERT-M-62-PLq0-HOX0-HCaLciU0-HCt3oL0-RCt3oLOH0</td>\n",
       "    </tr>\n",
       "    <tr>\n",
       "      <th>2</th>\n",
       "      <td>53f34b70-a595-4851-b097-b09a3b9bfb3f</td>\n",
       "      <td>p3</td>\n",
       "      <td>JAM-M-24-PLq0-HOX0-HCaLciU1-HCt3oL0-RCt3oLOH0</td>\n",
       "    </tr>\n",
       "    <tr>\n",
       "      <th>3</th>\n",
       "      <td>48006d66-7118-4cdf-a58f-aed98c7d10c0</td>\n",
       "      <td>p4</td>\n",
       "      <td>FRIT-M-45-PLq0-HOX0-HCaLciU0-HCt3oL1-RCt3oLOH1</td>\n",
       "    </tr>\n",
       "    <tr>\n",
       "      <th>4</th>\n",
       "      <td>e2509c87-a435-4d80-976b-af5163283915</td>\n",
       "      <td>p5</td>\n",
       "      <td>CHAP-F-39-PLq1-HOX0-HCaLciU1-HCt3oL1-RCt3oLOH1</td>\n",
       "    </tr>\n",
       "  </tbody>\n",
       "</table>\n",
       "</div>"
      ],
      "text/plain": [
       "                               #HASH-ID SAMPLE-Number  \\\n",
       "0  23117b5d-6580-4d23-9b4d-d33f05d51304            p1   \n",
       "1  33d41660-b7f6-455b-a8fa-b71e138c5284            p2   \n",
       "2  53f34b70-a595-4851-b097-b09a3b9bfb3f            p3   \n",
       "3  48006d66-7118-4cdf-a58f-aed98c7d10c0            p4   \n",
       "4  e2509c87-a435-4d80-976b-af5163283915            p5   \n",
       "\n",
       "                                     SAMPLES-NAMES  \n",
       "0  LABDO-F-48-PLq0-HOX0-HCaLciU0-HCt3oL0-RCt3oLOH1  \n",
       "1   BERT-M-62-PLq0-HOX0-HCaLciU0-HCt3oL0-RCt3oLOH0  \n",
       "2    JAM-M-24-PLq0-HOX0-HCaLciU1-HCt3oL0-RCt3oLOH0  \n",
       "3   FRIT-M-45-PLq0-HOX0-HCaLciU0-HCt3oL1-RCt3oLOH1  \n",
       "4   CHAP-F-39-PLq1-HOX0-HCaLciU1-HCt3oL1-RCt3oLOH1  "
      ]
     },
     "execution_count": 29,
     "metadata": {},
     "output_type": "execute_result"
    }
   ],
   "source": [
    "df_tab.head()"
   ]
  },
  {
   "cell_type": "code",
   "execution_count": 30,
   "metadata": {},
   "outputs": [
    {
     "name": "stdout",
     "output_type": "stream",
     "text": [
      "Verifying correspondence table ...\n",
      "***** All samples are in the table.\n"
     ]
    }
   ],
   "source": [
    "print \"Verifying correspondence table ...\"\n",
    "flag = 0\n",
    "for i in l_samples:\n",
    "    if i not in list(df_tab[\"#HASH-ID\"]):\n",
    "        print i\n",
    "        flag = flag + 1\n",
    "if flag == 0:\n",
    "    print \"***** All samples are in the table.\"\n",
    "else:\n",
    "    print \"***** Above samples are not in the table\"\n",
    "    "
   ]
  },
  {
   "cell_type": "code",
   "execution_count": 31,
   "metadata": {
    "collapsed": true
   },
   "outputs": [],
   "source": [
    "def pheno_binary(idx1, idx2, phenoname):\n",
    "    plq = []\n",
    "    for i in range(len(df_tab)):\n",
    "        tmp = df_tab[\"SAMPLES-NAMES\"][i].split(\"-\")\n",
    "        if tmp[idx1][idx2] != 'n':\n",
    "            plq.append(tmp[idx1][idx2])\n",
    "        else: \n",
    "            plq.append('0')\n",
    "    df_tab[phenoname] = plq"
   ]
  },
  {
   "cell_type": "code",
   "execution_count": 32,
   "metadata": {},
   "outputs": [
    {
     "name": "stdout",
     "output_type": "stream",
     "text": [
      "***** Extract phenotype from sample names. Please check below table.\n"
     ]
    }
   ],
   "source": [
    "pheno_binary(3, 3, \"PLq\")\n",
    "pheno_binary(4, 3, \"HOX\")\n",
    "pheno_binary(5, 7, \"HCaLciU\")\n",
    "pheno_binary(6, 6, \"HCt3oL\")\n",
    "pheno_binary(7, 8, \"RCt3oLOH\")\n",
    "print \"***** Extract phenotype from sample names. Please check below table.\""
   ]
  },
  {
   "cell_type": "code",
   "execution_count": 33,
   "metadata": {
    "collapsed": true
   },
   "outputs": [],
   "source": [
    "def pheno_extract(idx1, phenoname):\n",
    "    plq = []\n",
    "    for i in range(len(df_tab)):\n",
    "        tmp = df_tab[\"SAMPLES-NAMES\"][i].split(\"-\")\n",
    "        plq.append(tmp[idx1])\n",
    "    df_tab[phenoname] = plq"
   ]
  },
  {
   "cell_type": "code",
   "execution_count": 34,
   "metadata": {
    "collapsed": true
   },
   "outputs": [],
   "source": [
    "pheno_extract(1, 'Sex')\n",
    "pheno_extract(2, 'Age')\n",
    "df_tab['Sex'] = df_tab['Sex'].map({'F': '2', 'M': '1'})"
   ]
  },
  {
   "cell_type": "code",
   "execution_count": 35,
   "metadata": {
    "scrolled": true
   },
   "outputs": [
    {
     "data": {
      "text/html": [
       "<div>\n",
       "<style>\n",
       "    .dataframe thead tr:only-child th {\n",
       "        text-align: right;\n",
       "    }\n",
       "\n",
       "    .dataframe thead th {\n",
       "        text-align: left;\n",
       "    }\n",
       "\n",
       "    .dataframe tbody tr th {\n",
       "        vertical-align: top;\n",
       "    }\n",
       "</style>\n",
       "<table border=\"1\" class=\"dataframe\">\n",
       "  <thead>\n",
       "    <tr style=\"text-align: right;\">\n",
       "      <th></th>\n",
       "      <th>#HASH-ID</th>\n",
       "      <th>SAMPLE-Number</th>\n",
       "      <th>SAMPLES-NAMES</th>\n",
       "      <th>PLq</th>\n",
       "      <th>HOX</th>\n",
       "      <th>HCaLciU</th>\n",
       "      <th>HCt3oL</th>\n",
       "      <th>RCt3oLOH</th>\n",
       "      <th>Sex</th>\n",
       "      <th>Age</th>\n",
       "    </tr>\n",
       "  </thead>\n",
       "  <tbody>\n",
       "    <tr>\n",
       "      <th>0</th>\n",
       "      <td>23117b5d-6580-4d23-9b4d-d33f05d51304</td>\n",
       "      <td>p1</td>\n",
       "      <td>LABDO-F-48-PLq0-HOX0-HCaLciU0-HCt3oL0-RCt3oLOH1</td>\n",
       "      <td>0</td>\n",
       "      <td>0</td>\n",
       "      <td>0</td>\n",
       "      <td>0</td>\n",
       "      <td>1</td>\n",
       "      <td>2</td>\n",
       "      <td>48</td>\n",
       "    </tr>\n",
       "    <tr>\n",
       "      <th>1</th>\n",
       "      <td>33d41660-b7f6-455b-a8fa-b71e138c5284</td>\n",
       "      <td>p2</td>\n",
       "      <td>BERT-M-62-PLq0-HOX0-HCaLciU0-HCt3oL0-RCt3oLOH0</td>\n",
       "      <td>0</td>\n",
       "      <td>0</td>\n",
       "      <td>0</td>\n",
       "      <td>0</td>\n",
       "      <td>0</td>\n",
       "      <td>1</td>\n",
       "      <td>62</td>\n",
       "    </tr>\n",
       "    <tr>\n",
       "      <th>2</th>\n",
       "      <td>53f34b70-a595-4851-b097-b09a3b9bfb3f</td>\n",
       "      <td>p3</td>\n",
       "      <td>JAM-M-24-PLq0-HOX0-HCaLciU1-HCt3oL0-RCt3oLOH0</td>\n",
       "      <td>0</td>\n",
       "      <td>0</td>\n",
       "      <td>1</td>\n",
       "      <td>0</td>\n",
       "      <td>0</td>\n",
       "      <td>1</td>\n",
       "      <td>24</td>\n",
       "    </tr>\n",
       "    <tr>\n",
       "      <th>3</th>\n",
       "      <td>48006d66-7118-4cdf-a58f-aed98c7d10c0</td>\n",
       "      <td>p4</td>\n",
       "      <td>FRIT-M-45-PLq0-HOX0-HCaLciU0-HCt3oL1-RCt3oLOH1</td>\n",
       "      <td>0</td>\n",
       "      <td>0</td>\n",
       "      <td>0</td>\n",
       "      <td>1</td>\n",
       "      <td>1</td>\n",
       "      <td>1</td>\n",
       "      <td>45</td>\n",
       "    </tr>\n",
       "    <tr>\n",
       "      <th>4</th>\n",
       "      <td>e2509c87-a435-4d80-976b-af5163283915</td>\n",
       "      <td>p5</td>\n",
       "      <td>CHAP-F-39-PLq1-HOX0-HCaLciU1-HCt3oL1-RCt3oLOH1</td>\n",
       "      <td>1</td>\n",
       "      <td>0</td>\n",
       "      <td>1</td>\n",
       "      <td>1</td>\n",
       "      <td>1</td>\n",
       "      <td>2</td>\n",
       "      <td>39</td>\n",
       "    </tr>\n",
       "  </tbody>\n",
       "</table>\n",
       "</div>"
      ],
      "text/plain": [
       "                               #HASH-ID SAMPLE-Number  \\\n",
       "0  23117b5d-6580-4d23-9b4d-d33f05d51304            p1   \n",
       "1  33d41660-b7f6-455b-a8fa-b71e138c5284            p2   \n",
       "2  53f34b70-a595-4851-b097-b09a3b9bfb3f            p3   \n",
       "3  48006d66-7118-4cdf-a58f-aed98c7d10c0            p4   \n",
       "4  e2509c87-a435-4d80-976b-af5163283915            p5   \n",
       "\n",
       "                                     SAMPLES-NAMES PLq HOX HCaLciU HCt3oL  \\\n",
       "0  LABDO-F-48-PLq0-HOX0-HCaLciU0-HCt3oL0-RCt3oLOH1   0   0       0      0   \n",
       "1   BERT-M-62-PLq0-HOX0-HCaLciU0-HCt3oL0-RCt3oLOH0   0   0       0      0   \n",
       "2    JAM-M-24-PLq0-HOX0-HCaLciU1-HCt3oL0-RCt3oLOH0   0   0       1      0   \n",
       "3   FRIT-M-45-PLq0-HOX0-HCaLciU0-HCt3oL1-RCt3oLOH1   0   0       0      1   \n",
       "4   CHAP-F-39-PLq1-HOX0-HCaLciU1-HCt3oL1-RCt3oLOH1   1   0       1      1   \n",
       "\n",
       "  RCt3oLOH Sex Age  \n",
       "0        1   2  48  \n",
       "1        0   1  62  \n",
       "2        0   1  24  \n",
       "3        1   1  45  \n",
       "4        1   2  39  "
      ]
     },
     "execution_count": 35,
     "metadata": {},
     "output_type": "execute_result"
    }
   ],
   "source": [
    "df_tab.head()"
   ]
  },
  {
   "cell_type": "code",
   "execution_count": null,
   "metadata": {
    "collapsed": true
   },
   "outputs": [],
   "source": []
  },
  {
   "cell_type": "markdown",
   "metadata": {},
   "source": [
    "### ===== Make phenotype file using df_tab ====="
   ]
  },
  {
   "cell_type": "code",
   "execution_count": 36,
   "metadata": {},
   "outputs": [
    {
     "data": {
      "text/plain": [
       "0"
      ]
     },
     "execution_count": 36,
     "metadata": {},
     "output_type": "execute_result"
    }
   ],
   "source": [
    "#shell1 = \"if [ ! -d '\" +out_pheno+ \"' ]; then\\n\\t\" + \"mkdir \" + out_pheno + \"\\nfi\" \n",
    "#print subprocess.check_output(shell1, shell = True)\n",
    "out_pheno = out_rvtest + \"/pheno\"\n",
    "out_burden = out_rvtest + \"/burden\"\n",
    "out_burden_gene = out_rvtest + \"/burden_gene\"\n",
    "\n",
    "os.system(\"mkdir \"+ out_pheno)\n",
    "os.system(\"mkdir \"+ out_burden_gene)\n",
    "os.system(\"mkdir \"+ out_burden)"
   ]
  },
  {
   "cell_type": "code",
   "execution_count": 37,
   "metadata": {},
   "outputs": [
    {
     "name": "stdout",
     "output_type": "stream",
     "text": [
      "***** Writing pheno file for burden test:  /data/BurdenTest/Lithiasis_mar/output/rvtest/pheno\n",
      "0\n",
      "1\n",
      "2\n",
      "3\n",
      "4\n",
      "5\n",
      "6\n",
      "7\n",
      "8\n",
      "9\n",
      "10\n",
      "11\n",
      "12\n",
      "13\n",
      "14\n",
      "15\n",
      "16\n",
      "17\n",
      "18\n",
      "19\n",
      "20\n",
      "21\n",
      "22\n",
      "23\n",
      "24\n",
      "25\n",
      "26\n",
      "27\n",
      "28\n",
      "29\n",
      "30\n",
      "31\n",
      "32\n",
      "33\n",
      "34\n",
      "35\n",
      "36\n",
      "37\n",
      "38\n",
      "39\n",
      "40\n",
      "41\n",
      "42\n",
      "43\n",
      "44\n",
      "45\n",
      "46\n",
      "47\n",
      "48\n",
      "49\n",
      "50\n",
      "51\n",
      "52\n",
      "53\n",
      "54\n",
      "55\n",
      "56\n",
      "57\n",
      "58\n",
      "59\n",
      "60\n",
      "61\n",
      "62\n",
      "63\n",
      "64\n",
      "65\n",
      "66\n",
      "67\n",
      "68\n",
      "69\n",
      "70\n",
      "71\n",
      "72\n",
      "73\n",
      "74\n",
      "75\n",
      "76\n",
      "77\n",
      "78\n",
      "79\n",
      "80\n",
      "81\n",
      "82\n",
      "83\n",
      "84\n",
      "85\n",
      "86\n",
      "87\n",
      "88\n",
      "89\n",
      "90\n",
      "91\n",
      "92\n",
      "93\n",
      "94\n",
      "95\n",
      "96\n",
      "97\n",
      "98\n",
      "99\n",
      "100\n",
      "101\n",
      "102\n",
      "103\n",
      "104\n",
      "105\n",
      "106\n",
      "107\n",
      "108\n",
      "109\n",
      "110\n",
      "111\n",
      "112\n",
      "113\n",
      "114\n",
      "115\n",
      "116\n",
      "117\n",
      "118\n",
      "119\n",
      "120\n",
      "121\n",
      "122\n"
     ]
    }
   ],
   "source": [
    "print \"***** Writing pheno file for burden test: \", out_pheno\n",
    "f = open(out_pheno + '/pheno_all.ped','wb')\n",
    "f.write(\"fid iid fatid matid sex age PLq HOX HCaLciU HCt3oL RCt3oLOH\\n\")\n",
    "\n",
    "for k in range(len(df_tab)):\n",
    "    print k\n",
    "    name = df_tab[\"#HASH-ID\"][k]\n",
    "\n",
    "    text = name + \" \" + name + \" 0 0 \" + df_tab['Sex'][k] + ' ' \\\n",
    "            + df_tab['Age'][k] + ' '+ df_tab['PLq'][k] + ' ' \\\n",
    "            + df_tab['HOX'][k]+ ' '+ df_tab['HCaLciU'][k]+ ' ' \\\n",
    "            + df_tab['HCt3oL'][k]+ ' '+ df_tab['RCt3oLOH'][k]+ \"\\n\"\n",
    "    f.write(text)\n",
    "    \n",
    "\n",
    "f.close()"
   ]
  },
  {
   "cell_type": "markdown",
   "metadata": {},
   "source": [
    "## 8.3/ Burden normal with genefile refFlat.txt.gz\n",
    "https://genome.sph.umich.edu/wiki/Rvtests"
   ]
  },
  {
   "cell_type": "markdown",
   "metadata": {},
   "source": [
    "### 8.3.1/ Burden normal with only a genename "
   ]
  },
  {
   "cell_type": "code",
   "execution_count": 44,
   "metadata": {},
   "outputs": [
    {
     "data": {
      "text/plain": [
       "'/data/BurdenTest/Lithiasis_mar/output/exome/Lithiasis_set_20082018-123-samples_merge_exomiser_all_sort_bz.vcf.gz'"
      ]
     },
     "execution_count": 44,
     "metadata": {},
     "output_type": "execute_result"
    }
   ],
   "source": [
    "bzip"
   ]
  },
  {
   "cell_type": "markdown",
   "metadata": {},
   "source": [
    "### ====================================================================="
   ]
  },
  {
   "cell_type": "markdown",
   "metadata": {},
   "source": [
    "### 8.3.2/ Burden test with all available genes"
   ]
  },
  {
   "cell_type": "code",
   "execution_count": 50,
   "metadata": {
    "collapsed": true
   },
   "outputs": [],
   "source": [
    "def rvtest(phenoname):\n",
    "    invcf = bzip\n",
    "    pheno = out_pheno + '/pheno_all.ped'\n",
    "    \n",
    "    \n",
    "    #model = \"cmc,cmcWald,zeggini,zegginiWald\"\n",
    "    model = \"zeggini,cmc\"\n",
    "    outrv = out_burden + \"/output_\"+model+phenoname\n",
    "    \n",
    "    comm = rvtest_pwd + \" --inVcf \" + invcf + \" --pheno \" + pheno + \" --pheno-name \" +phenoname \\\n",
    "    + \" --covar \" + pheno + \" --covar-name age,sex --qtl --freqUpper 0.05\"  + \" --geneFile \"+ genefile \\\n",
    "    + \" --out \" + outrv + \" --burden \"+model + \" --kernel skat\" # adjust covar\n",
    "    #comm = rvtest_pwd + \" --inVcf \" + invcf + \" --pheno \" + pheno + \" --pheno-name \" \\\n",
    "    #+ phenoname + \" --qtl --freqUpper 0.05 --geneFile \"+ genefile    \\\n",
    "    #+ \" --out \" + outrv + \" --burden \"+model + \" --kernel skat\"\n",
    "    print comm\n",
    "    print subprocess.check_output(comm, shell = True)"
   ]
  },
  {
   "cell_type": "code",
   "execution_count": 51,
   "metadata": {},
   "outputs": [
    {
     "data": {
      "text/plain": [
       "'/data/BurdenTest/Lithiasis_mar/output/exome/Lithiasis_set_20082018-123-samples_merge_exomiser_all_sort_bz.vcf.gz'"
      ]
     },
     "execution_count": 51,
     "metadata": {},
     "output_type": "execute_result"
    }
   ],
   "source": [
    "bzip"
   ]
  },
  {
   "cell_type": "code",
   "execution_count": 52,
   "metadata": {
    "scrolled": true
   },
   "outputs": [
    {
     "name": "stdout",
     "output_type": "stream",
     "text": [
      "/data/rvtests/executable/rvtest --inVcf /data/BurdenTest/Lithiasis_mar/output/exome/Lithiasis_set_20082018-123-samples_merge_exomiser_all_sort_bz.vcf.gz --pheno /data/BurdenTest/Lithiasis_mar/output/rvtest/pheno/pheno_all.ped --pheno-name PLq --covar /data/BurdenTest/Lithiasis_mar/output/rvtest/pheno/pheno_all.ped --covar-name age,sex --qtl --freqUpper 0.05 --geneFile /data/BurdenTest/Lithiasis_mar/refFlat.txt.gz --out /data/BurdenTest/Lithiasis_mar/output/rvtest/burden/output_zeggini,cmcPLq --burden zeggini,cmc --kernel skat\n",
      "Thank you for using rvtests (version: 20190205, git: c86e589efef15382603300dc7f4c3394c82d69b8)\n",
      "  For documentations, refer to http://zhanxw.github.io/rvtests/\n",
      "  For questions and comments, plase send to Xiaowei Zhan <zhanxw@umich.edu>\n",
      "  For bugs and feature requests, please submit at: https://github.com/zhanxw/rvtests/issues\n",
      "\n",
      "RVTESTS finished successfully\n",
      "\n"
     ]
    }
   ],
   "source": [
    "rvtest(\"PLq\")"
   ]
  },
  {
   "cell_type": "code",
   "execution_count": 52,
   "metadata": {
    "scrolled": true
   },
   "outputs": [
    {
     "name": "stdout",
     "output_type": "stream",
     "text": [
      "***** Output :  /data/BurdenTest/Lithiasis_mar/output/rvtest/burden\n",
      "***** Running burden test ...\n",
      "\n",
      "Thank you for using rvtests (version: 20171009, git: 02a02ba9f5927aee3df3b8162efed8e23aaea886)\n",
      "  For documentations, refer to http://zhanxw.github.io/rvtests/\n",
      "  For questions and comments, send to Xiaowei Zhan <zhanxw@umich.edu>\n",
      "  For bugs and feature requests, please submit at: https://github.com/zhanxw/rvtests/issues\n",
      "\n",
      "RVTESTS finished successfully\n",
      "\n",
      "Thank you for using rvtests (version: 20171009, git: 02a02ba9f5927aee3df3b8162efed8e23aaea886)\n",
      "  For documentations, refer to http://zhanxw.github.io/rvtests/\n",
      "  For questions and comments, send to Xiaowei Zhan <zhanxw@umich.edu>\n",
      "  For bugs and feature requests, please submit at: https://github.com/zhanxw/rvtests/issues\n",
      "\n",
      "RVTESTS finished successfully\n",
      "\n",
      "Thank you for using rvtests (version: 20171009, git: 02a02ba9f5927aee3df3b8162efed8e23aaea886)\n",
      "  For documentations, refer to http://zhanxw.github.io/rvtests/\n",
      "  For questions and comments, send to Xiaowei Zhan <zhanxw@umich.edu>\n",
      "  For bugs and feature requests, please submit at: https://github.com/zhanxw/rvtests/issues\n",
      "\n",
      "RVTESTS finished successfully\n",
      "\n",
      "Thank you for using rvtests (version: 20171009, git: 02a02ba9f5927aee3df3b8162efed8e23aaea886)\n",
      "  For documentations, refer to http://zhanxw.github.io/rvtests/\n",
      "  For questions and comments, send to Xiaowei Zhan <zhanxw@umich.edu>\n",
      "  For bugs and feature requests, please submit at: https://github.com/zhanxw/rvtests/issues\n",
      "\n",
      "RVTESTS finished successfully\n",
      "\n",
      "Thank you for using rvtests (version: 20171009, git: 02a02ba9f5927aee3df3b8162efed8e23aaea886)\n",
      "  For documentations, refer to http://zhanxw.github.io/rvtests/\n",
      "  For questions and comments, send to Xiaowei Zhan <zhanxw@umich.edu>\n",
      "  For bugs and feature requests, please submit at: https://github.com/zhanxw/rvtests/issues\n",
      "\n",
      "RVTESTS finished successfully\n",
      "\n",
      "***** Done.\n",
      "CPU times: user 2.26 ms, sys: 27.7 ms, total: 29.9 ms\n",
      "Wall time: 4.28 s\n"
     ]
    }
   ],
   "source": [
    "%%time\n",
    "print \"***** Output : \", out_burden\n",
    "print \"***** Running burden test ...\\n\"\n",
    "rvtest(\"PLq\")\n",
    "rvtest(\"HOX\")\n",
    "rvtest(\"HCaLciU\")\n",
    "rvtest(\"HCt3oL\")\n",
    "rvtest(\"RCt3oLOH\")\n",
    "print \"***** Done.\""
   ]
  },
  {
   "cell_type": "markdown",
   "metadata": {
    "collapsed": true
   },
   "source": [
    "# 9/ Output report"
   ]
  },
  {
   "cell_type": "code",
   "execution_count": 53,
   "metadata": {
    "collapsed": true
   },
   "outputs": [],
   "source": [
    "file_list = []\n",
    "for file in os.listdir(out_burden):\n",
    "    if file.endswith(\".assoc\"):\n",
    "        a = os.path.join(out_burden, file)\n",
    "        file_list.append(a)"
   ]
  },
  {
   "cell_type": "code",
   "execution_count": 54,
   "metadata": {},
   "outputs": [
    {
     "name": "stdout",
     "output_type": "stream",
     "text": [
      "***** Output files of burden test\n"
     ]
    },
    {
     "data": {
      "text/plain": [
       "['/data/BurdenTest/Lithiasis_mar/output/rvtest/burden/output_HCaLciU.Zeggini.assoc',\n",
       " '/data/BurdenTest/Lithiasis_mar/output/rvtest/burden/output_RCt3oLOH.Zeggini.assoc',\n",
       " '/data/BurdenTest/Lithiasis_mar/output/rvtest/burden/output_HCt3oL.Zeggini.assoc',\n",
       " '/data/BurdenTest/Lithiasis_mar/output/rvtest/burden/output_HOX.Zeggini.assoc',\n",
       " '/data/BurdenTest/Lithiasis_mar/output/rvtest/burden/output_PLq.Zeggini.assoc']"
      ]
     },
     "execution_count": 54,
     "metadata": {},
     "output_type": "execute_result"
    }
   ],
   "source": [
    "print \"***** Output files of burden test\"\n",
    "file_list"
   ]
  },
  {
   "cell_type": "code",
   "execution_count": 55,
   "metadata": {
    "collapsed": true
   },
   "outputs": [],
   "source": [
    "n = len(file_list)\n",
    "\n",
    "for i in range(len(file_list)):\n",
    "    a = file_list[i].split('/')\n",
    "    b = a[len(a)-1].split('.')\n",
    "    dftmp = pd.read_csv(file_list[i], sep='\\t')\n",
    "    col_name = b[0][7:len(b[0])] + '_' + b[1]\n",
    "    if i == 0:\n",
    "        df = dftmp\n",
    "        df = df.rename(columns={\"Pvalue\": col_name})\n",
    "    else:\n",
    "        df[col_name] = dftmp[\"Pvalue\"]\n"
   ]
  },
  {
   "cell_type": "code",
   "execution_count": 56,
   "metadata": {
    "collapsed": true,
    "scrolled": true
   },
   "outputs": [],
   "source": [
    "df = df.sort_values('Gene')"
   ]
  },
  {
   "cell_type": "code",
   "execution_count": 57,
   "metadata": {
    "collapsed": true
   },
   "outputs": [],
   "source": [
    "df.to_excel(out_report + '/burden_all_1.xlsx', index = False)"
   ]
  },
  {
   "cell_type": "code",
   "execution_count": 50,
   "metadata": {},
   "outputs": [
    {
     "name": "stdout",
     "output_type": "stream",
     "text": [
      "***** Please find path of output report here:  /data/BurdenTest/Lithiasis_mar/output/report/burden_all.xlsx\n"
     ]
    }
   ],
   "source": [
    "print \"***** Please find path of output report here: \", out_report + '/burden_all.xlsx'"
   ]
  },
  {
   "cell_type": "code",
   "execution_count": null,
   "metadata": {
    "collapsed": true
   },
   "outputs": [],
   "source": []
  }
 ],
 "metadata": {
  "kernelspec": {
   "display_name": "Python 2",
   "language": "python",
   "name": "python2"
  },
  "language_info": {
   "codemirror_mode": {
    "name": "ipython",
    "version": 2
   },
   "file_extension": ".py",
   "mimetype": "text/x-python",
   "name": "python",
   "nbconvert_exporter": "python",
   "pygments_lexer": "ipython2",
   "version": "2.7.12"
  }
 },
 "nbformat": 4,
 "nbformat_minor": 2
}
