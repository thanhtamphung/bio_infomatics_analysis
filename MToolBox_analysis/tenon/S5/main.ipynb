{
 "cells": [
  {
   "cell_type": "code",
   "execution_count": 2,
   "metadata": {
    "collapsed": true
   },
   "outputs": [],
   "source": [
    "import subprocess\n",
    "import os"
   ]
  },
  {
   "cell_type": "markdown",
   "metadata": {},
   "source": [
    "##### ============= Modify these parameters ===================="
   ]
  },
  {
   "cell_type": "code",
   "execution_count": 1,
   "metadata": {
    "collapsed": true
   },
   "outputs": [],
   "source": [
    "# path of the tool MToolBox\n",
    "mtb_path = \"/home/phung/Documents/work/MToolBox-master/MToolBox/\"\n",
    "# where you save your input file (fastq, bam ...)\n",
    "input_path = \"/home/phung/Documents/work/MToolBox-master/tenon/S5/\"\n",
    "# where you save your output results \n",
    "output_name = \"/home/phung/Documents/work/MToolBox-master/tenon/S5/S5/\"\n",
    "# name of input\n",
    "f1 = \"2052690574-005061_8008990406_S5.bam\"\n",
    "f2 = \"\"\n",
    "# input type: fastq, bam, sam\n",
    "input_type = \"bam\"\n"
   ]
  },
  {
   "cell_type": "markdown",
   "metadata": {},
   "source": [
    "##### ============= Run cells and do not modify ===================="
   ]
  },
  {
   "cell_type": "markdown",
   "metadata": {},
   "source": [
    "### =============Generate configure file to run MToolBox================== "
   ]
  },
  {
   "cell_type": "code",
   "execution_count": 8,
   "metadata": {},
   "outputs": [],
   "source": [
    "a = output_name.split('/')\n",
    "name = a[len(a)-2]"
   ]
  },
  {
   "cell_type": "code",
   "execution_count": 7,
   "metadata": {
    "collapsed": true
   },
   "outputs": [],
   "source": [
    "f = open(name+\".lst\",'wb')\n",
    "f.write(f1)\n",
    "f.write(f2)\n",
    "f.close()"
   ]
  },
  {
   "cell_type": "code",
   "execution_count": 9,
   "metadata": {
    "collapsed": true
   },
   "outputs": [],
   "source": [
    "f = open(name+\".conf\",'wb')\n",
    "f.write('#!/bin/bash\\n')\n",
    "f.write('\\n')\n",
    "f.write('mtdb_fasta=chrM.fa\\n')\n",
    "f.write('hg19_fasta=hg19RCRS.fa\\n')\n",
    "f.write('mtdb=chrM\\n')\n",
    "f.write('humandb=hg19RCRS\\n')\n",
    "f.write('input_path='+input_path+'\\n')\n",
    "f.write('output_name='+output_name+'\\n')\n",
    "f.write('list='+name+'.lst\\n')\n",
    "f.write('input_type='+input_type+'\\n')\n",
    "f.write('ref=RCRS\\n')\n",
    "f.write('vcf_name='+name+'\\n')\n",
    "f.write('\\n')\n",
    "f.write('\\n')\n",
    "f.write('\\n')\n",
    "f.close()"
   ]
  },
  {
   "cell_type": "markdown",
   "metadata": {},
   "source": [
    "### =============Generate file bash to run MToolBox=================="
   ]
  },
  {
   "cell_type": "markdown",
   "metadata": {},
   "source": [
    "Read run_mtoolbox.md, please follow the instruction to check filename-input and create list-file (.lst)"
   ]
  },
  {
   "cell_type": "code",
   "execution_count": 13,
   "metadata": {
    "collapsed": true
   },
   "outputs": [],
   "source": [
    "\n",
    "conf_file = name+\".conf\"\n",
    "log_file = name+\".log\"\n",
    "# read doc MToolBox to change options\n",
    "#option = ' -a \"-z 0.8\" '\n",
    "option = ''"
   ]
  },
  {
   "cell_type": "code",
   "execution_count": 14,
   "metadata": {
    "collapsed": true
   },
   "outputs": [],
   "source": [
    "f = open(\"mtoolbox\",'wb')\n",
    "f.write('#!/bin/bash\\n')\n",
    "f.write('export PATH=\"' + mtb_path + ':$PATH\"\\n')\n",
    "f.write(\"bash \" + mtb_path + \"MToolBox.sh -i \" + conf_file + option + \" &> \" + log_file + \"\\n\")\n",
    "f.write('echo \"Done!\"')\n",
    "f.close()"
   ]
  },
  {
   "cell_type": "markdown",
   "metadata": {},
   "source": [
    "### =============Run MToolBox====================="
   ]
  },
  {
   "cell_type": "markdown",
   "metadata": {},
   "source": [
    "##### You can monitor the process with log file in the input folder "
   ]
  },
  {
   "cell_type": "code",
   "execution_count": 15,
   "metadata": {},
   "outputs": [
    {
     "name": "stdout",
     "output_type": "stream",
     "text": [
      "CPU times: user 81.2 ms, sys: 49.5 ms, total: 131 ms\n",
      "Wall time: 1h 17min 17s\n"
     ]
    }
   ],
   "source": [
    "%%time\n",
    "cmd = \"bash mtoolbox\"\n",
    "subprocess.check_output(cmd, shell = True)\n"
   ]
  },
  {
   "cell_type": "code",
   "execution_count": null,
   "metadata": {
    "collapsed": true
   },
   "outputs": [],
   "source": []
  }
 ],
 "metadata": {
  "kernelspec": {
   "display_name": "Python 2",
   "language": "python",
   "name": "python2"
  },
  "language_info": {
   "codemirror_mode": {
    "name": "ipython",
    "version": 2
   },
   "file_extension": ".py",
   "mimetype": "text/x-python",
   "name": "python",
   "nbconvert_exporter": "python",
   "pygments_lexer": "ipython2",
   "version": "2.7.12"
  }
 },
 "nbformat": 4,
 "nbformat_minor": 2
}
