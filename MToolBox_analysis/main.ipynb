{
 "cells": [
  {
   "cell_type": "markdown",
   "metadata": {},
   "source": [
    "# MToolBox\n",
    "   \n",
    "    Edit: 8 Mar 2018\n",
    "    Ref: https://github.com/mitoNGS/MToolBox/tree/master/MToolBox \n",
    "    Please have a look the ref link above to understand parameters and more options\n",
    "    Run following cells, steps by steps "
   ]
  },
  {
   "cell_type": "code",
   "execution_count": 1,
   "metadata": {
    "collapsed": true
   },
   "outputs": [],
   "source": [
    "# import cell\n",
    "import subprocess\n",
    "import os"
   ]
  },
  {
   "cell_type": "markdown",
   "metadata": {},
   "source": [
    "##### ============= Modify these parameters ====================\n",
    "\n",
    "Ref: https://github.com/mitoNGS/MToolBox/tree/master/MToolBox"
   ]
  },
  {
   "cell_type": "code",
   "execution_count": 2,
   "metadata": {
    "collapsed": true
   },
   "outputs": [],
   "source": [
    "# path of the tool MToolBox folder which contains file MToolbox.sh\n",
    "mtb_path = \"/data/MToolBox/MToolBox-master/MToolBox/\"\n",
    "# the folder where you save your input file (fastq, bam ...)\n",
    "input_path = \"/data/MToolBox/MToolBox-master/tenon/S5/\"\n",
    "# the folder where you save your output results, it should be subfolder of input_path\n",
    "output_path = \"/data/MToolBox/MToolBox-master/tenon/S5/S5/\"\n",
    "# names of inputs\n",
    "f1 = \"2052690574-005061_8008990406_S5.bam\"\n",
    "f2 = \"\"\n",
    "# input type: fastq, bam, sam\n",
    "input_type = \"bam\"\n"
   ]
  },
  {
   "cell_type": "markdown",
   "metadata": {},
   "source": [
    "##### ============= Run cells and do not modify ===================="
   ]
  },
  {
   "cell_type": "markdown",
   "metadata": {},
   "source": [
    "### =============Generate configure file to run MToolBox================== "
   ]
  },
  {
   "cell_type": "code",
   "execution_count": 4,
   "metadata": {},
   "outputs": [
    {
     "name": "stdout",
     "output_type": "stream",
     "text": [
      "Configure file, log file and output vcf file will be saved with names: S5.conf, S5.log, S5.vcf\n"
     ]
    }
   ],
   "source": [
    "a = output_path.split('/')\n",
    "name = a[len(a)-2]\n",
    "print \"Configure file, log file and output vcf file will be saved with names: %s.conf, %s.log, %s.vcf\" %(name,name,name) "
   ]
  },
  {
   "cell_type": "code",
   "execution_count": 5,
   "metadata": {},
   "outputs": [
    {
     "name": "stdout",
     "output_type": "stream",
     "text": [
      "Generate list file with all names of inputs\n"
     ]
    }
   ],
   "source": [
    "f = open(input_path+name+\".lst\",'wb')\n",
    "f.write(f1+'\\n')\n",
    "f.write(f2)\n",
    "f.close()\n",
    "print \"Generate list file with all names of inputs\""
   ]
  },
  {
   "cell_type": "code",
   "execution_count": 7,
   "metadata": {},
   "outputs": [
    {
     "name": "stdout",
     "output_type": "stream",
     "text": [
      "Generate conf file for running MToolBox\n"
     ]
    }
   ],
   "source": [
    "f = open(input_path+name+\".conf\",'wb')\n",
    "f.write('#!/bin/bash\\n')\n",
    "content = \"\"\"\n",
    "mtdb_fasta=chrM.fa\n",
    "mtdb=chrM\n",
    "humandb=hg19RCRS\n",
    "input_path={input_path}\n",
    "output_name={output_path}\n",
    "list={name}.lst\n",
    "input_type={input_type}\n",
    "ref=RCRS\n",
    "vcf_name={name}\n",
    "\"\"\".format(\n",
    "input_path=input_path,\n",
    "name=name,\n",
    "output_path=output_path,\n",
    "input_type=input_type\n",
    ")\n",
    "f.write(content)\n",
    "f.close()\n",
    "print \"Generate conf file for running MToolBox\""
   ]
  },
  {
   "cell_type": "markdown",
   "metadata": {},
   "source": [
    "### =============Generate file bash to run MToolBox=================="
   ]
  },
  {
   "cell_type": "markdown",
   "metadata": {},
   "source": [
    "Read run_mtoolbox.md, please follow the instruction to check filename-input and create list-file (.lst)"
   ]
  },
  {
   "cell_type": "code",
   "execution_count": 10,
   "metadata": {
    "collapsed": true
   },
   "outputs": [],
   "source": [
    "conf_file = input_path+name+\".conf\"\n",
    "log_file = input_path+name+\".log\"\n",
    "# please read doc MToolBox at ref-link to change options\n",
    "# for example: option = ' -a \"-z 0.8\" '\n",
    "option = ''"
   ]
  },
  {
   "cell_type": "code",
   "execution_count": null,
   "metadata": {},
   "outputs": [],
   "source": [
    "f = open(input_path+\"mtoolbox\",'wb')\n",
    "f.write('#!/bin/bash\\n')\n",
    "f.write('export PATH=\"' + mtb_path + ':$PATH\"\\n')\n",
    "f.write(\"bash \" + mtb_path + \"MToolBox.sh -i \" + conf_file + option + \" &> \" + log_file + \"\\n\")\n",
    "f.write('echo \"Done!\"')\n",
    "f.close()\n",
    "print \"Writing bash file to run MToolBox, it's saved in the same folder input files\""
   ]
  },
  {
   "cell_type": "markdown",
   "metadata": {},
   "source": [
    "### =============Run MToolBox====================="
   ]
  },
  {
   "cell_type": "markdown",
   "metadata": {},
   "source": [
    "##### You can monitor the process with log file in the input folder "
   ]
  },
  {
   "cell_type": "code",
   "execution_count": null,
   "metadata": {},
   "outputs": [],
   "source": [
    "%%time\n",
    "print \"Please check log file\" + name + \".log in input folder\" \n",
    "cmd = \"bash \"+ input_path+\"mtoolbox\"\n",
    "subprocess.check_output(cmd, shell = True)\n"
   ]
  },
  {
   "cell_type": "code",
   "execution_count": null,
   "metadata": {
    "collapsed": true
   },
   "outputs": [],
   "source": []
  }
 ],
 "metadata": {
  "kernelspec": {
   "display_name": "Python 2",
   "language": "python",
   "name": "python2"
  },
  "language_info": {
   "codemirror_mode": {
    "name": "ipython",
    "version": 2
   },
   "file_extension": ".py",
   "mimetype": "text/x-python",
   "name": "python",
   "nbconvert_exporter": "python",
   "pygments_lexer": "ipython2",
   "version": "2.7.12"
  }
 },
 "nbformat": 4,
 "nbformat_minor": 2
}
