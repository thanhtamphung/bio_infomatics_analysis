{
 "cells": [
  {
   "cell_type": "markdown",
   "metadata": {},
   "source": [
    "# MToolBox\n",
    "    Date: 8 Mar 2018\n",
    "    Last edit: 15 Mar 2018\n",
    "    Ref: https://github.com/mitoNGS/MToolBox/tree/master/MToolBox \n",
    "    Please have a look the ref link above to understand parameters and more options\n",
    "    Run (shift+enter) following cells, steps by steps \n",
    "    Runtime: 1H15' with input bam 8.2GB "
   ]
  },
  {
   "cell_type": "code",
   "execution_count": 1,
   "metadata": {
    "collapsed": true
   },
   "outputs": [],
   "source": [
    "# import cell\n",
    "import subprocess"
   ]
  },
  {
   "cell_type": "markdown",
   "metadata": {},
   "source": [
    "## 1/ Specify these parameters \n",
    "\n",
    "Ref: https://github.com/mitoNGS/MToolBox/tree/master/MToolBox"
   ]
  },
  {
   "cell_type": "code",
   "execution_count": 5,
   "metadata": {
    "collapsed": true
   },
   "outputs": [],
   "source": [
    "# path of the tool MToolBox folder which contains file MToolbox.sh\n",
    "mtb_path = \"/data/MToolBox/MToolBox-master/MToolBox/\"\n",
    "# the folder where you save your input file (fastq, bam ...)\n",
    "input_path = \"/data/MToolBox/tenon/S5/\"\n",
    "# names of inputs\n",
    "f1 = \"2052690574-005061_8008990406_S5.bam\"\n",
    "f2 = \"\"\n",
    "# input type: fastq, bam, sam\n",
    "input_type = \"bam\"\n",
    "# please read doc MToolBox at ref-link to change options when running MToolBox\n",
    "# for example: option = '-a \"-z 0.8\"' or option = ''\n",
    "option = ''"
   ]
  },
  {
   "cell_type": "markdown",
   "metadata": {},
   "source": [
    "## 2/ Generate configure and bash files\n",
    "\n",
    "Do not modify this part"
   ]
  },
  {
   "cell_type": "markdown",
   "metadata": {},
   "source": [
    "##### ============= Generate configure file to run MToolBox ================== "
   ]
  },
  {
   "cell_type": "code",
   "execution_count": 6,
   "metadata": {
    "collapsed": true
   },
   "outputs": [],
   "source": [
    "a = f1.split('.')\n",
    "name = a[0]\n",
    "output_path = input_path + 'OUT_' + name + '/'"
   ]
  },
  {
   "cell_type": "code",
   "execution_count": 7,
   "metadata": {},
   "outputs": [
    {
     "name": "stdout",
     "output_type": "stream",
     "text": [
      "Configure file and log file will be saved with names: 2052690574-005061_8008990406_S5.conf, 2052690574-005061_8008990406_S5.log in /data/MToolBox/tenon/S5/\n",
      "The output vcf file will be saved with names: 2052690574-005061_8008990406_S5.vcf in /data/MToolBox/tenon/S5/OUT_2052690574-005061_8008990406_S5/\n"
     ]
    }
   ],
   "source": [
    "print \"Configure file and log file will be saved with names: %s.conf, %s.log in %s\" %(name, name, input_path)\n",
    "print \"The output vcf file will be saved with names: %s.vcf in %s\" %(name, output_path) "
   ]
  },
  {
   "cell_type": "code",
   "execution_count": 8,
   "metadata": {
    "collapsed": true
   },
   "outputs": [],
   "source": [
    "conf_file = input_path + name + \".conf\"\n",
    "log_file = input_path + name + \".log\"\n",
    "list_file = input_path + name + \".lst\"\n",
    "mtb_bash = input_path + \"mtoolbox\""
   ]
  },
  {
   "cell_type": "code",
   "execution_count": 9,
   "metadata": {},
   "outputs": [
    {
     "name": "stdout",
     "output_type": "stream",
     "text": [
      "***** Generate list_file with all names of inputs for running MToolBox:  /data/MToolBox/tenon/S5/2052690574-005061_8008990406_S5.lst\n"
     ]
    }
   ],
   "source": [
    "f = open(list_file, 'wb')\n",
    "f.write(f1 + '\\n')\n",
    "f.write(f2)\n",
    "f.close()\n",
    "print \"***** Generate list_file with all names of inputs for running MToolBox: \" + list_file"
   ]
  },
  {
   "cell_type": "code",
   "execution_count": 10,
   "metadata": {},
   "outputs": [
    {
     "name": "stdout",
     "output_type": "stream",
     "text": [
      "***** Generate conf_file for running MToolBox:  /data/MToolBox/tenon/S5/2052690574-005061_8008990406_S5.conf\n"
     ]
    }
   ],
   "source": [
    "f = open(conf_file, 'wb')\n",
    "f.write('#!/bin/bash\\n')\n",
    "content_conf = \"\"\"\n",
    "mtdb_fasta=chrM.fa\n",
    "hg19_fasta=hg19RCRS.fa\n",
    "mtdb=chrM\n",
    "humandb=hg19RCRS\n",
    "input_path={input_path}\n",
    "output_name={output_path}\n",
    "list={name}.lst\n",
    "input_type={input_type}\n",
    "ref=RCRS\n",
    "vcf_name={name}\n",
    "\"\"\".format(\n",
    "input_path=input_path,\n",
    "name=name,\n",
    "output_path=output_path,\n",
    "input_type=input_type\n",
    ")\n",
    "f.write(content_conf)\n",
    "f.close()\n",
    "print \"***** Generate conf_file for running MToolBox: \" + conf_file"
   ]
  },
  {
   "cell_type": "markdown",
   "metadata": {},
   "source": [
    "##### ============= Generate bash file to run MToolBox =================="
   ]
  },
  {
   "cell_type": "code",
   "execution_count": 11,
   "metadata": {
    "scrolled": true
   },
   "outputs": [
    {
     "name": "stdout",
     "output_type": "stream",
     "text": [
      "***** Writing bash file to run MToolBox:  /data/MToolBox/tenon/S5/mtoolbox\n"
     ]
    }
   ],
   "source": [
    "f = open(mtb_bash, 'wb')\n",
    "f.write('#!/bin/bash\\n')\n",
    "content_mtb = \"\"\"\n",
    "export PATH=\"{mtb_path}:$PATH\"\n",
    "bash {mtb_path}MToolBox.sh -i {conf_file} {option} &> {log_file}\n",
    "if [ $? -eq 0 ]; then \n",
    "    echo \"Done! All output files are in {output_path}.\"\n",
    "else\n",
    "    echo \"Not complete! Please check log file to figure out the problem.\"\n",
    "fi\n",
    "\"\"\".format(\n",
    "mtb_path = mtb_path,\n",
    "conf_file=conf_file,\n",
    "option=option,\n",
    "log_file=log_file,\n",
    "output_path = output_path\n",
    ")\n",
    "f.write(content_mtb)\n",
    "f.close()\n",
    "print \"***** Writing bash file to run MToolBox: \" + mtb_bash "
   ]
  },
  {
   "cell_type": "markdown",
   "metadata": {},
   "source": [
    "## 3/ Run MToolBox "
   ]
  },
  {
   "cell_type": "markdown",
   "metadata": {},
   "source": [
    "##### You can monitor the process via log file in the input folder "
   ]
  },
  {
   "cell_type": "code",
   "execution_count": 12,
   "metadata": {},
   "outputs": [
    {
     "name": "stdout",
     "output_type": "stream",
     "text": [
      "***** Please view log file /data/MToolBox/tenon/S5/2052690574-005061_8008990406_S5.log\n",
      " ... still running ...\n",
      "Done! All output files are in /data/MToolBox/tenon/S5/OUT_2052690574-005061_8008990406_S5/.\n",
      "\n",
      "CPU times: user 86.9 ms, sys: 27 ms, total: 114 ms\n",
      "Wall time: 1h 11min 47s\n"
     ]
    }
   ],
   "source": [
    "%%time\n",
    "print \"***** Please view log file \" + log_file + \"\\n ... still running ...\" \n",
    "cmd = \"bash \" + mtb_bash\n",
    "print subprocess.check_output(cmd, shell=True)\n"
   ]
  },
  {
   "cell_type": "code",
   "execution_count": null,
   "metadata": {
    "collapsed": true
   },
   "outputs": [],
   "source": []
  }
 ],
 "metadata": {
  "kernelspec": {
   "display_name": "Python 2",
   "language": "python",
   "name": "python2"
  },
  "language_info": {
   "codemirror_mode": {
    "name": "ipython",
    "version": 2
   },
   "file_extension": ".py",
   "mimetype": "text/x-python",
   "name": "python",
   "nbconvert_exporter": "python",
   "pygments_lexer": "ipython2",
   "version": "2.7.12"
  }
 },
 "nbformat": 4,
 "nbformat_minor": 2
}
