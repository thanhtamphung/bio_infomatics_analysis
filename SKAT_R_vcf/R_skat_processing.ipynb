{
 "cells": [
  {
   "cell_type": "markdown",
   "metadata": {},
   "source": [
    "## From vcf to data for SKAT in R"
   ]
  },
  {
   "cell_type": "markdown",
   "metadata": {},
   "source": [
    "### 1/ Input:\n",
    "- vcf file: variants with genotype\n",
    "- gene file or bed file: contain gene names and their range - their positions\n",
    "- ped file: phenotype\n",
    "- R script: to run Skat "
   ]
  },
  {
   "cell_type": "markdown",
   "metadata": {},
   "source": [
    "### 2/ Dependencies:\n",
    "- R\n",
    "- bedtools\n",
    "- python packages in import cell"
   ]
  },
  {
   "cell_type": "markdown",
   "metadata": {},
   "source": [
    "Runtime: 2 min for this example"
   ]
  },
  {
   "cell_type": "code",
   "execution_count": 1,
   "metadata": {
    "collapsed": true
   },
   "outputs": [],
   "source": [
    "# import cell\n",
    "import subprocess\n",
    "import os\n",
    "import fileinput\n",
    "import sys\n",
    "\n",
    "import pandas as pd\n",
    "\n",
    "from pysam import VariantFile as psVa"
   ]
  },
  {
   "cell_type": "code",
   "execution_count": 2,
   "metadata": {
    "collapsed": true
   },
   "outputs": [],
   "source": [
    "# inputs\n",
    "vcf_file = '/data/Rstudio/data/annoexom.vcf' \n",
    "gene_file = '/data/Rstudio/data/genefile.txt'\n",
    "pheno_file = '/data/Rstudio/data/pheno_all.ped'\n",
    "input_folder = '/data/Rstudio/data' \n",
    "# for output pvalue\n",
    "out_file = input_folder+ '/out_pvalue.txt'"
   ]
  },
  {
   "cell_type": "code",
   "execution_count": 3,
   "metadata": {},
   "outputs": [
    {
     "data": {
      "text/plain": [
       "0"
      ]
     },
     "execution_count": 3,
     "metadata": {},
     "output_type": "execute_result"
    }
   ],
   "source": [
    "# for tmp files\n",
    "tmp_folder = input_folder + '/tmp'\n",
    "os.system(\"mkdir \" + tmp_folder)"
   ]
  },
  {
   "cell_type": "code",
   "execution_count": 4,
   "metadata": {},
   "outputs": [
    {
     "data": {
      "text/plain": [
       "''"
      ]
     },
     "execution_count": 4,
     "metadata": {},
     "output_type": "execute_result"
    }
   ],
   "source": [
    "# sort, bgzip and tabix file vcf for using bedtools\n",
    "vcf_sort = vcf_file[0:len(vcf_file)-4]+'_sort.vcf'\n",
    "comm1 = \"vcf-sort \" + vcf_file + \" > \" + vcf_sort\n",
    "comm2 = \"bgzip -c \" + vcf_sort + \" > \" + vcf_sort+'.gz'\n",
    "comm3 = \"tabix -p vcf \" + vcf_sort+'.gz'\n",
    "subprocess.check_output(comm1, shell = True)\n",
    "subprocess.check_output(comm2, shell = True)\n",
    "subprocess.check_output(comm3, shell = True)\n"
   ]
  },
  {
   "cell_type": "code",
   "execution_count": 5,
   "metadata": {
    "scrolled": true
   },
   "outputs": [
    {
     "data": {
      "text/html": [
       "<div>\n",
       "<style>\n",
       "    .dataframe thead tr:only-child th {\n",
       "        text-align: right;\n",
       "    }\n",
       "\n",
       "    .dataframe thead th {\n",
       "        text-align: left;\n",
       "    }\n",
       "\n",
       "    .dataframe tbody tr th {\n",
       "        vertical-align: top;\n",
       "    }\n",
       "</style>\n",
       "<table border=\"1\" class=\"dataframe\">\n",
       "  <thead>\n",
       "    <tr style=\"text-align: right;\">\n",
       "      <th></th>\n",
       "      <th>Gene</th>\n",
       "      <th>RANGE</th>\n",
       "    </tr>\n",
       "  </thead>\n",
       "  <tbody>\n",
       "    <tr>\n",
       "      <th>0</th>\n",
       "      <td>IDUA</td>\n",
       "      <td>4:980784-998345,4:980784-998345</td>\n",
       "    </tr>\n",
       "    <tr>\n",
       "      <th>1</th>\n",
       "      <td>AQP1</td>\n",
       "      <td>7:30951308-30965132,7:30951308-30965132</td>\n",
       "    </tr>\n",
       "    <tr>\n",
       "      <th>2</th>\n",
       "      <td>HOGA1</td>\n",
       "      <td>10:99344101-99372555,10:99344101-99372555</td>\n",
       "    </tr>\n",
       "    <tr>\n",
       "      <th>3</th>\n",
       "      <td>TRPV6</td>\n",
       "      <td>7:142568955-142583490</td>\n",
       "    </tr>\n",
       "    <tr>\n",
       "      <th>4</th>\n",
       "      <td>DGKH</td>\n",
       "      <td>13:42712177-42830716,13:42712177-42817033,13:4...</td>\n",
       "    </tr>\n",
       "  </tbody>\n",
       "</table>\n",
       "</div>"
      ],
      "text/plain": [
       "    Gene                                              RANGE\n",
       "0   IDUA                    4:980784-998345,4:980784-998345\n",
       "1   AQP1            7:30951308-30965132,7:30951308-30965132\n",
       "2  HOGA1          10:99344101-99372555,10:99344101-99372555\n",
       "3  TRPV6                              7:142568955-142583490\n",
       "4   DGKH  13:42712177-42830716,13:42712177-42817033,13:4..."
      ]
     },
     "execution_count": 5,
     "metadata": {},
     "output_type": "execute_result"
    }
   ],
   "source": [
    "# read gene file, 'sep=' depends on your file\n",
    "df_gene = pd.read_csv(gene_file, sep ='\\t')\n",
    "df_gene.head()"
   ]
  },
  {
   "cell_type": "code",
   "execution_count": 6,
   "metadata": {},
   "outputs": [
    {
     "data": {
      "text/html": [
       "<div>\n",
       "<style>\n",
       "    .dataframe thead tr:only-child th {\n",
       "        text-align: right;\n",
       "    }\n",
       "\n",
       "    .dataframe thead th {\n",
       "        text-align: left;\n",
       "    }\n",
       "\n",
       "    .dataframe tbody tr th {\n",
       "        vertical-align: top;\n",
       "    }\n",
       "</style>\n",
       "<table border=\"1\" class=\"dataframe\">\n",
       "  <thead>\n",
       "    <tr style=\"text-align: right;\">\n",
       "      <th></th>\n",
       "      <th>fid</th>\n",
       "      <th>iid</th>\n",
       "      <th>fatid</th>\n",
       "      <th>matid</th>\n",
       "      <th>sex</th>\n",
       "      <th>age</th>\n",
       "      <th>PLq</th>\n",
       "      <th>HOX</th>\n",
       "      <th>HCaLciU</th>\n",
       "      <th>HCt3oL</th>\n",
       "      <th>RCt3oLOH</th>\n",
       "    </tr>\n",
       "  </thead>\n",
       "  <tbody>\n",
       "    <tr>\n",
       "      <th>0</th>\n",
       "      <td>23117b5d-6580-4d23-9b4d-d33f05d51304</td>\n",
       "      <td>23117b5d-6580-4d23-9b4d-d33f05d51304</td>\n",
       "      <td>0</td>\n",
       "      <td>0</td>\n",
       "      <td>2</td>\n",
       "      <td>48</td>\n",
       "      <td>0</td>\n",
       "      <td>0</td>\n",
       "      <td>0</td>\n",
       "      <td>0</td>\n",
       "      <td>1</td>\n",
       "    </tr>\n",
       "    <tr>\n",
       "      <th>1</th>\n",
       "      <td>33d41660-b7f6-455b-a8fa-b71e138c5284</td>\n",
       "      <td>33d41660-b7f6-455b-a8fa-b71e138c5284</td>\n",
       "      <td>0</td>\n",
       "      <td>0</td>\n",
       "      <td>1</td>\n",
       "      <td>62</td>\n",
       "      <td>0</td>\n",
       "      <td>0</td>\n",
       "      <td>0</td>\n",
       "      <td>0</td>\n",
       "      <td>0</td>\n",
       "    </tr>\n",
       "    <tr>\n",
       "      <th>2</th>\n",
       "      <td>53f34b70-a595-4851-b097-b09a3b9bfb3f</td>\n",
       "      <td>53f34b70-a595-4851-b097-b09a3b9bfb3f</td>\n",
       "      <td>0</td>\n",
       "      <td>0</td>\n",
       "      <td>1</td>\n",
       "      <td>24</td>\n",
       "      <td>0</td>\n",
       "      <td>0</td>\n",
       "      <td>1</td>\n",
       "      <td>0</td>\n",
       "      <td>0</td>\n",
       "    </tr>\n",
       "    <tr>\n",
       "      <th>3</th>\n",
       "      <td>48006d66-7118-4cdf-a58f-aed98c7d10c0</td>\n",
       "      <td>48006d66-7118-4cdf-a58f-aed98c7d10c0</td>\n",
       "      <td>0</td>\n",
       "      <td>0</td>\n",
       "      <td>1</td>\n",
       "      <td>45</td>\n",
       "      <td>0</td>\n",
       "      <td>0</td>\n",
       "      <td>0</td>\n",
       "      <td>1</td>\n",
       "      <td>1</td>\n",
       "    </tr>\n",
       "    <tr>\n",
       "      <th>4</th>\n",
       "      <td>e2509c87-a435-4d80-976b-af5163283915</td>\n",
       "      <td>e2509c87-a435-4d80-976b-af5163283915</td>\n",
       "      <td>0</td>\n",
       "      <td>0</td>\n",
       "      <td>2</td>\n",
       "      <td>39</td>\n",
       "      <td>1</td>\n",
       "      <td>0</td>\n",
       "      <td>1</td>\n",
       "      <td>1</td>\n",
       "      <td>1</td>\n",
       "    </tr>\n",
       "  </tbody>\n",
       "</table>\n",
       "</div>"
      ],
      "text/plain": [
       "                                    fid                                   iid  \\\n",
       "0  23117b5d-6580-4d23-9b4d-d33f05d51304  23117b5d-6580-4d23-9b4d-d33f05d51304   \n",
       "1  33d41660-b7f6-455b-a8fa-b71e138c5284  33d41660-b7f6-455b-a8fa-b71e138c5284   \n",
       "2  53f34b70-a595-4851-b097-b09a3b9bfb3f  53f34b70-a595-4851-b097-b09a3b9bfb3f   \n",
       "3  48006d66-7118-4cdf-a58f-aed98c7d10c0  48006d66-7118-4cdf-a58f-aed98c7d10c0   \n",
       "4  e2509c87-a435-4d80-976b-af5163283915  e2509c87-a435-4d80-976b-af5163283915   \n",
       "\n",
       "   fatid  matid  sex  age  PLq  HOX  HCaLciU  HCt3oL  RCt3oLOH  \n",
       "0      0      0    2   48    0    0        0       0         1  \n",
       "1      0      0    1   62    0    0        0       0         0  \n",
       "2      0      0    1   24    0    0        1       0         0  \n",
       "3      0      0    1   45    0    0        0       1         1  \n",
       "4      0      0    2   39    1    0        1       1         1  "
      ]
     },
     "execution_count": 6,
     "metadata": {},
     "output_type": "execute_result"
    }
   ],
   "source": [
    "# read phenotype file, 'sep=' depends on your file\n",
    "df_pheno = pd.read_csv(pheno_file, sep =' ')\n",
    "df_pheno.head()"
   ]
  },
  {
   "cell_type": "code",
   "execution_count": 7,
   "metadata": {
    "collapsed": true
   },
   "outputs": [],
   "source": [
    "# function remove header to transform to dataframe\n",
    "def remove_header(mfile):\n",
    "    #print \"***** Remove header, keep Genetype 1/1, 0/1 or 0/0\"\n",
    "    os.system(\"cp \" + mfile + \" \" + mfile[0:len(mfile)-4] + \"_1.vcf\")\n",
    "    mfile = mfile[0:len(mfile)-4] + \"_1.vcf\"\n",
    "    minput = fileinput.input(mfile, inplace=1)\n",
    "\n",
    "    for i, line in enumerate(minput):\n",
    "        #sys.stderr.write(line +'\\n')\n",
    "        newline = line\n",
    "\n",
    "        if line[0:2]==\"##\":\n",
    "\n",
    "            newline = \"\"\n",
    "        sys.stdout.write(newline)\n",
    "    minput.close()\n",
    "    return mfile\n",
    "    #print \"***** Output is \", mfile"
   ]
  },
  {
   "cell_type": "code",
   "execution_count": 8,
   "metadata": {
    "scrolled": true
   },
   "outputs": [
    {
     "name": "stdout",
     "output_type": "stream",
     "text": [
      "Output file: /data/Rstudio/data/tmp/IDUA.csv with number of variants  237\n",
      "Output file: /data/Rstudio/data/tmp/AQP1.csv with number of variants  72\n",
      "Output file: /data/Rstudio/data/tmp/HOGA1.csv with number of variants  87\n",
      "Output file: /data/Rstudio/data/tmp/TRPV6.csv with number of variants  104\n",
      "Output file: /data/Rstudio/data/tmp/DGKH.csv with number of variants  203\n",
      "Output file: /data/Rstudio/data/tmp/ENTPD1.csv with number of variants  123\n",
      "Output file: /data/Rstudio/data/tmp/FGFR1.csv with number of variants  196\n",
      "Output file: /data/Rstudio/data/tmp/PMF1-BGLAP.csv with number of variants  35\n",
      "Output file: /data/Rstudio/data/tmp/SLC26A7.csv with number of variants  71\n",
      "Output file: /data/Rstudio/data/tmp/AP2S1.csv with number of variants  60\n",
      "Output file: /data/Rstudio/data/tmp/NT5E.csv with number of variants  74\n",
      "Output file: /data/Rstudio/data/tmp/LDHA.csv with number of variants  64\n",
      "Output file: /data/Rstudio/data/tmp/C10orf55.csv with number of variants  59\n",
      "Output file: /data/Rstudio/data/tmp/CLDN19.csv with number of variants  96\n",
      "Output file: /data/Rstudio/data/tmp/ENTPD1-AS1.csv with number of variants  106\n",
      "Output file: /data/Rstudio/data/tmp/OCRL.csv with number of variants  99\n",
      "Output file: /data/Rstudio/data/tmp/RXRG.csv with number of variants  96\n",
      "Output file: /data/Rstudio/data/tmp/ABCC6.csv with number of variants  350\n",
      "Output file: /data/Rstudio/data/tmp/RXRA.csv with number of variants  543\n",
      "Output file: /data/Rstudio/data/tmp/ALPL.csv with number of variants  185\n",
      "Output file: /data/Rstudio/data/tmp/CLDN14.csv with number of variants  99\n",
      "Output file: /data/Rstudio/data/tmp/CLCN5.csv with number of variants  80\n",
      "Output file: /data/Rstudio/data/tmp/SLC26A1.csv with number of variants  242\n",
      "Output file: /data/Rstudio/data/tmp/SPP1.csv with number of variants  30\n",
      "Output file: /data/Rstudio/data/tmp/SLC34A1.csv with number of variants  130\n",
      "Output file: /data/Rstudio/data/tmp/UMOD.csv with number of variants  120\n",
      "Output file: /data/Rstudio/data/tmp/SLC26A6.csv with number of variants  122\n",
      "Output file: /data/Rstudio/data/tmp/RXRB.csv with number of variants  86\n",
      "Output file: /data/Rstudio/data/tmp/SLC34A3.csv with number of variants  214\n",
      "Output file: /data/Rstudio/data/tmp/ANKH.csv with number of variants  136\n",
      "Output file: /data/Rstudio/data/tmp/KL.csv with number of variants  85\n",
      "Output file: /data/Rstudio/data/tmp/CLDN16.csv with number of variants  31\n",
      "Output file: /data/Rstudio/data/tmp/DMP1.csv with number of variants  22\n",
      "Output file: /data/Rstudio/data/tmp/F2.csv with number of variants  106\n",
      "Output file: /data/Rstudio/data/tmp/FGF23.csv with number of variants  41\n",
      "Output file: /data/Rstudio/data/tmp/PLAU.csv with number of variants  58\n",
      "Output file: /data/Rstudio/data/tmp/MINDY4.csv with number of variants  45\n",
      "Output file: /data/Rstudio/data/tmp/BGLAP.csv with number of variants  35\n",
      "Output file: /data/Rstudio/data/tmp/LRRC69.csv with number of variants  5\n",
      "Output file: /data/Rstudio/data/tmp/ENPP1.csv with number of variants  155\n",
      "Output file: /data/Rstudio/data/tmp/MIR6824.csv with number of variants  1\n",
      "Output file: /data/Rstudio/data/tmp/GNA11.csv with number of variants  112\n",
      "Output file: /data/Rstudio/data/tmp/LOC100130744.csv with number of variants  26\n",
      "Output file: /data/Rstudio/data/tmp/CYP24A1.csv with number of variants  135\n",
      "Output file: /data/Rstudio/data/tmp/AHSG.csv with number of variants  64\n",
      "Output file: /data/Rstudio/data/tmp/PHEX.csv with number of variants  82\n",
      "Output file: /data/Rstudio/data/tmp/CD44.csv with number of variants  142\n",
      "Output file: /data/Rstudio/data/tmp/INMT-MINDY4.csv with number of variants  45\n",
      "Output file: /data/Rstudio/data/tmp/TRPV5.csv with number of variants  94\n",
      "Output file: /data/Rstudio/data/tmp/MGP.csv with number of variants  29\n",
      "Output file: /data/Rstudio/data/tmp/PHEX-AS1.csv with number of variants  4\n",
      "Output file: /data/Rstudio/data/tmp/PTCHD1-AS.csv with number of variants  30\n",
      "Output file: /data/Rstudio/data/tmp/CASR.csv with number of variants  88\n",
      "Output file: /data/Rstudio/data/tmp/GRHPR.csv with number of variants  107\n",
      "Output file: /data/Rstudio/data/tmp/VDR.csv with number of variants  142\n",
      "Output file: /data/Rstudio/data/tmp/CYP27B1.csv with number of variants  104\n",
      "Output file: /data/Rstudio/data/tmp/SLC26A2.csv with number of variants  54\n",
      "Output file: /data/Rstudio/data/tmp/SLC26A3.csv with number of variants  84\n",
      "Output file: /data/Rstudio/data/tmp/AGXT.csv with number of variants  182\n",
      "CPU times: user 16.6 s, sys: 866 ms, total: 17.4 s\n",
      "Wall time: 23.1 s\n"
     ]
    }
   ],
   "source": [
    "%%time\n",
    "# Generate matrices genotype \n",
    "a0 = int(0)\n",
    "a1 = int(1)\n",
    "a2 = int(2)\n",
    "a9 = int(9)\n",
    "for k in range(len(df_gene)):\n",
    "    \n",
    "    rang = df_gene['RANGE'][k]\n",
    "    gene_name = df_gene['Gene'][k]\n",
    "    \n",
    "    \n",
    "    # generate bed file for current gene\n",
    "    input_bed = tmp_folder + '/mybed.bed'\n",
    "    f = open( input_bed,'wb')\n",
    "    tmp1 = rang.split(',')\n",
    "    for tmp in tmp1:\n",
    "        tmp2 = tmp.split(':')\n",
    "        ch = tmp2[0]\n",
    "        tmp3 = tmp2[1].split('-')\n",
    "        f.write(ch + '\\t' + tmp3[0] + '\\t' + tmp3[1] + '\\n')\n",
    "    f.close()\n",
    "    \n",
    "    # filter vcf with above bed file\n",
    "    \n",
    "    vcf_bedfil = tmp_folder+'/vcf_filbed.vcf'\n",
    "    cmn = \"bedtools intersect -a \" + vcf_sort + \" -b \" + input_bed + \" -header > \" + vcf_bedfil\n",
    "    subprocess.check_output(cmn, shell = True)\n",
    "    \n",
    "    \n",
    "    # Remove header\n",
    "    mfile = remove_header(vcf_bedfil)\n",
    "    \n",
    "    # output dataframe from the new vcf\n",
    "    df=pd.read_csv(mfile, sep='\\t')\n",
    "    df = df.drop_duplicates() # remove duplicates (after using bedtools - repeat range in gene file)\n",
    "    cols = df.columns\n",
    "    \n",
    "    # mapping from genotype to matrix, ordering same phenotype file (df_tab)\n",
    "    new_dict={\n",
    "        '0/0':a0, \n",
    "        '0/1':a1, '1/0':a1, '0/2':a1, '2/0':a1, '3/0':a1, '0/3':a1,\n",
    "        '1/1':a2, '2/2':a2, '3/3':a2, '4/4':a2,\n",
    "        'else':a9\n",
    "    }\n",
    "    for col in cols[9:len(cols)]:\n",
    "        df[col] = df[col].map(new_dict).fillna(new_dict['else']).astype(int)\n",
    "    \n",
    "    # append genotype matrix to df_sort corresponding to phenotype order\n",
    "    df_sort = pd.DataFrame()\n",
    "    for col in df_pheno['fid']:\n",
    "        df_sort = df_sort.append(df[col])\n",
    "    \n",
    "    # Output matrix to csv file\n",
    "    df_sort.to_csv(tmp_folder+ '/'+gene_name + '.csv', sep='\\t', index = False)\n",
    "    print 'Output file: ' + tmp_folder+ '/'+gene_name + '.csv with number of variants ', len(df_sort.columns)\n"
   ]
  },
  {
   "cell_type": "code",
   "execution_count": 9,
   "metadata": {
    "scrolled": true
   },
   "outputs": [
    {
     "data": {
      "text/html": [
       "<div>\n",
       "<style>\n",
       "    .dataframe thead tr:only-child th {\n",
       "        text-align: right;\n",
       "    }\n",
       "\n",
       "    .dataframe thead th {\n",
       "        text-align: left;\n",
       "    }\n",
       "\n",
       "    .dataframe tbody tr th {\n",
       "        vertical-align: top;\n",
       "    }\n",
       "</style>\n",
       "<table border=\"1\" class=\"dataframe\">\n",
       "  <thead>\n",
       "    <tr style=\"text-align: right;\">\n",
       "      <th></th>\n",
       "      <th>0</th>\n",
       "      <th>1</th>\n",
       "      <th>2</th>\n",
       "      <th>3</th>\n",
       "      <th>4</th>\n",
       "      <th>5</th>\n",
       "      <th>6</th>\n",
       "      <th>7</th>\n",
       "      <th>8</th>\n",
       "      <th>9</th>\n",
       "      <th>...</th>\n",
       "      <th>172</th>\n",
       "      <th>173</th>\n",
       "      <th>174</th>\n",
       "      <th>175</th>\n",
       "      <th>176</th>\n",
       "      <th>177</th>\n",
       "      <th>178</th>\n",
       "      <th>179</th>\n",
       "      <th>180</th>\n",
       "      <th>181</th>\n",
       "    </tr>\n",
       "  </thead>\n",
       "  <tbody>\n",
       "    <tr>\n",
       "      <th>23117b5d-6580-4d23-9b4d-d33f05d51304</th>\n",
       "      <td>0.0</td>\n",
       "      <td>0.0</td>\n",
       "      <td>0.0</td>\n",
       "      <td>0.0</td>\n",
       "      <td>0.0</td>\n",
       "      <td>0.0</td>\n",
       "      <td>0.0</td>\n",
       "      <td>0.0</td>\n",
       "      <td>0.0</td>\n",
       "      <td>0.0</td>\n",
       "      <td>...</td>\n",
       "      <td>0.0</td>\n",
       "      <td>0.0</td>\n",
       "      <td>0.0</td>\n",
       "      <td>0.0</td>\n",
       "      <td>0.0</td>\n",
       "      <td>0.0</td>\n",
       "      <td>0.0</td>\n",
       "      <td>0.0</td>\n",
       "      <td>0.0</td>\n",
       "      <td>0.0</td>\n",
       "    </tr>\n",
       "    <tr>\n",
       "      <th>33d41660-b7f6-455b-a8fa-b71e138c5284</th>\n",
       "      <td>0.0</td>\n",
       "      <td>0.0</td>\n",
       "      <td>0.0</td>\n",
       "      <td>0.0</td>\n",
       "      <td>0.0</td>\n",
       "      <td>0.0</td>\n",
       "      <td>0.0</td>\n",
       "      <td>0.0</td>\n",
       "      <td>0.0</td>\n",
       "      <td>0.0</td>\n",
       "      <td>...</td>\n",
       "      <td>0.0</td>\n",
       "      <td>0.0</td>\n",
       "      <td>0.0</td>\n",
       "      <td>0.0</td>\n",
       "      <td>0.0</td>\n",
       "      <td>0.0</td>\n",
       "      <td>0.0</td>\n",
       "      <td>0.0</td>\n",
       "      <td>0.0</td>\n",
       "      <td>0.0</td>\n",
       "    </tr>\n",
       "    <tr>\n",
       "      <th>53f34b70-a595-4851-b097-b09a3b9bfb3f</th>\n",
       "      <td>0.0</td>\n",
       "      <td>0.0</td>\n",
       "      <td>0.0</td>\n",
       "      <td>0.0</td>\n",
       "      <td>0.0</td>\n",
       "      <td>0.0</td>\n",
       "      <td>0.0</td>\n",
       "      <td>0.0</td>\n",
       "      <td>0.0</td>\n",
       "      <td>0.0</td>\n",
       "      <td>...</td>\n",
       "      <td>0.0</td>\n",
       "      <td>0.0</td>\n",
       "      <td>0.0</td>\n",
       "      <td>0.0</td>\n",
       "      <td>0.0</td>\n",
       "      <td>0.0</td>\n",
       "      <td>0.0</td>\n",
       "      <td>0.0</td>\n",
       "      <td>0.0</td>\n",
       "      <td>0.0</td>\n",
       "    </tr>\n",
       "    <tr>\n",
       "      <th>48006d66-7118-4cdf-a58f-aed98c7d10c0</th>\n",
       "      <td>0.0</td>\n",
       "      <td>0.0</td>\n",
       "      <td>0.0</td>\n",
       "      <td>0.0</td>\n",
       "      <td>0.0</td>\n",
       "      <td>0.0</td>\n",
       "      <td>0.0</td>\n",
       "      <td>0.0</td>\n",
       "      <td>0.0</td>\n",
       "      <td>0.0</td>\n",
       "      <td>...</td>\n",
       "      <td>0.0</td>\n",
       "      <td>0.0</td>\n",
       "      <td>0.0</td>\n",
       "      <td>0.0</td>\n",
       "      <td>0.0</td>\n",
       "      <td>0.0</td>\n",
       "      <td>0.0</td>\n",
       "      <td>0.0</td>\n",
       "      <td>0.0</td>\n",
       "      <td>0.0</td>\n",
       "    </tr>\n",
       "    <tr>\n",
       "      <th>e2509c87-a435-4d80-976b-af5163283915</th>\n",
       "      <td>0.0</td>\n",
       "      <td>0.0</td>\n",
       "      <td>0.0</td>\n",
       "      <td>0.0</td>\n",
       "      <td>0.0</td>\n",
       "      <td>0.0</td>\n",
       "      <td>0.0</td>\n",
       "      <td>0.0</td>\n",
       "      <td>0.0</td>\n",
       "      <td>0.0</td>\n",
       "      <td>...</td>\n",
       "      <td>0.0</td>\n",
       "      <td>0.0</td>\n",
       "      <td>0.0</td>\n",
       "      <td>0.0</td>\n",
       "      <td>0.0</td>\n",
       "      <td>0.0</td>\n",
       "      <td>0.0</td>\n",
       "      <td>0.0</td>\n",
       "      <td>0.0</td>\n",
       "      <td>1.0</td>\n",
       "    </tr>\n",
       "  </tbody>\n",
       "</table>\n",
       "<p>5 rows × 182 columns</p>\n",
       "</div>"
      ],
      "text/plain": [
       "                                      0    1    2    3    4    5    6    7    \\\n",
       "23117b5d-6580-4d23-9b4d-d33f05d51304  0.0  0.0  0.0  0.0  0.0  0.0  0.0  0.0   \n",
       "33d41660-b7f6-455b-a8fa-b71e138c5284  0.0  0.0  0.0  0.0  0.0  0.0  0.0  0.0   \n",
       "53f34b70-a595-4851-b097-b09a3b9bfb3f  0.0  0.0  0.0  0.0  0.0  0.0  0.0  0.0   \n",
       "48006d66-7118-4cdf-a58f-aed98c7d10c0  0.0  0.0  0.0  0.0  0.0  0.0  0.0  0.0   \n",
       "e2509c87-a435-4d80-976b-af5163283915  0.0  0.0  0.0  0.0  0.0  0.0  0.0  0.0   \n",
       "\n",
       "                                      8    9   ...   172  173  174  175  176  \\\n",
       "23117b5d-6580-4d23-9b4d-d33f05d51304  0.0  0.0 ...   0.0  0.0  0.0  0.0  0.0   \n",
       "33d41660-b7f6-455b-a8fa-b71e138c5284  0.0  0.0 ...   0.0  0.0  0.0  0.0  0.0   \n",
       "53f34b70-a595-4851-b097-b09a3b9bfb3f  0.0  0.0 ...   0.0  0.0  0.0  0.0  0.0   \n",
       "48006d66-7118-4cdf-a58f-aed98c7d10c0  0.0  0.0 ...   0.0  0.0  0.0  0.0  0.0   \n",
       "e2509c87-a435-4d80-976b-af5163283915  0.0  0.0 ...   0.0  0.0  0.0  0.0  0.0   \n",
       "\n",
       "                                      177  178  179  180  181  \n",
       "23117b5d-6580-4d23-9b4d-d33f05d51304  0.0  0.0  0.0  0.0  0.0  \n",
       "33d41660-b7f6-455b-a8fa-b71e138c5284  0.0  0.0  0.0  0.0  0.0  \n",
       "53f34b70-a595-4851-b097-b09a3b9bfb3f  0.0  0.0  0.0  0.0  0.0  \n",
       "48006d66-7118-4cdf-a58f-aed98c7d10c0  0.0  0.0  0.0  0.0  0.0  \n",
       "e2509c87-a435-4d80-976b-af5163283915  0.0  0.0  0.0  0.0  1.0  \n",
       "\n",
       "[5 rows x 182 columns]"
      ]
     },
     "execution_count": 9,
     "metadata": {},
     "output_type": "execute_result"
    }
   ],
   "source": [
    "# see one of mapped genotype matrix \n",
    "df_sort.head()"
   ]
  },
  {
   "cell_type": "code",
   "execution_count": 10,
   "metadata": {},
   "outputs": [
    {
     "name": "stdout",
     "output_type": "stream",
     "text": [
      "CPU times: user 35.4 ms, sys: 161 ms, total: 197 ms\n",
      "Wall time: 55.7 s\n"
     ]
    }
   ],
   "source": [
    "%%time\n",
    "# run R script with 4 arguments: phenotype file + genotype matrix + gene name + path of output_pvalue file\n",
    "# Rscript runskat.R /data/Rstudio/data/pheno_all.ped /data/Rstudio/data/tmp/AGXT.csv AGXT /data/Rstudio/data/out_pvalue.txt\n",
    "for k in range(len(df_gene)):\n",
    "    gene_name = df_gene['Gene'][k]\n",
    "    cmn = \"Rscript runskat.R \"+ pheno_file + ' ' +tmp_folder+ '/'+gene_name + '.csv ' + gene_name + ' ' + out_file\n",
    "    subprocess.check_output(cmn, shell = True)"
   ]
  },
  {
   "cell_type": "code",
   "execution_count": null,
   "metadata": {
    "collapsed": true
   },
   "outputs": [],
   "source": []
  },
  {
   "cell_type": "code",
   "execution_count": null,
   "metadata": {
    "collapsed": true
   },
   "outputs": [],
   "source": []
  },
  {
   "cell_type": "code",
   "execution_count": null,
   "metadata": {
    "collapsed": true
   },
   "outputs": [],
   "source": []
  },
  {
   "cell_type": "code",
   "execution_count": null,
   "metadata": {
    "collapsed": true
   },
   "outputs": [],
   "source": []
  },
  {
   "cell_type": "code",
   "execution_count": null,
   "metadata": {
    "collapsed": true
   },
   "outputs": [],
   "source": []
  },
  {
   "cell_type": "code",
   "execution_count": null,
   "metadata": {
    "collapsed": true
   },
   "outputs": [],
   "source": []
  },
  {
   "cell_type": "code",
   "execution_count": null,
   "metadata": {
    "collapsed": true
   },
   "outputs": [],
   "source": []
  },
  {
   "cell_type": "code",
   "execution_count": null,
   "metadata": {
    "collapsed": true
   },
   "outputs": [],
   "source": []
  },
  {
   "cell_type": "code",
   "execution_count": null,
   "metadata": {
    "collapsed": true
   },
   "outputs": [],
   "source": []
  }
 ],
 "metadata": {
  "kernelspec": {
   "display_name": "Python 2",
   "language": "python",
   "name": "python2"
  },
  "language_info": {
   "codemirror_mode": {
    "name": "ipython",
    "version": 2
   },
   "file_extension": ".py",
   "mimetype": "text/x-python",
   "name": "python",
   "nbconvert_exporter": "python",
   "pygments_lexer": "ipython2",
   "version": "2.7.12"
  }
 },
 "nbformat": 4,
 "nbformat_minor": 2
}
